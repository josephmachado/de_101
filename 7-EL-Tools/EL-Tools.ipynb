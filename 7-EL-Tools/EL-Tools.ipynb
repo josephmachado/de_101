{
 "cells": [
  {
   "cell_type": "markdown",
   "id": "131be4fc-b7b9-435e-a736-a8c6a38965c7",
   "metadata": {},
   "source": [
    "# The EL parts for common sources and databases are already built"
   ]
  },
  {
   "cell_type": "markdown",
   "id": "77e3cd62-d922-4eb9-8d05-2db0917244fe",
   "metadata": {},
   "source": [
    "# Python enables you to pull data from any data source"
   ]
  },
  {
   "cell_type": "markdown",
   "id": "672f28a2-8713-4780-9fdd-0b2179447711",
   "metadata": {},
   "source": [
    "# More code = more bugs, Use existing tools"
   ]
  },
  {
   "cell_type": "markdown",
   "id": "5026bb87-5664-4f41-a5a1-5ec7664d7ba8",
   "metadata": {},
   "source": [
    "# Let's replace Python with dlt (EL tool)"
   ]
  }
 ],
 "metadata": {
  "kernelspec": {
   "display_name": "Python 3 (ipykernel)",
   "language": "python",
   "name": "python3"
  },
  "language_info": {
   "codemirror_mode": {
    "name": "ipython",
    "version": 3
   },
   "file_extension": ".py",
   "mimetype": "text/x-python",
   "name": "python",
   "nbconvert_exporter": "python",
   "pygments_lexer": "ipython3",
   "version": "3.12.4"
  }
 },
 "nbformat": 4,
 "nbformat_minor": 5
}
