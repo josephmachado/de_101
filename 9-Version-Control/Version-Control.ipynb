{
 "cells": [
  {
   "cell_type": "markdown",
   "id": "9abdc08b-9390-4b93-bfb3-31294187bb78",
   "metadata": {},
   "source": [
    "# Keep track of every change to your code base with version control"
   ]
  },
  {
   "cell_type": "markdown",
   "id": "436aa4a3-5ec1-484f-8de7-ba0e545a9b79",
   "metadata": {},
   "source": [
    "# git = a cli to keep track of every change to your code directory"
   ]
  },
  {
   "cell_type": "markdown",
   "id": "7967d60e-c701-4c7c-974b-aab2ecb03ee7",
   "metadata": {},
   "source": [
    "# GitHub = a SAAS to host your code directory"
   ]
  },
  {
   "cell_type": "markdown",
   "id": "c224f3f3-5631-48fe-a2ef-5dc9a2feeece",
   "metadata": {},
   "source": [
    "# Developer workflow"
   ]
  }
 ],
 "metadata": {
  "kernelspec": {
   "display_name": "Python 3 (ipykernel)",
   "language": "python",
   "name": "python3"
  },
  "language_info": {
   "codemirror_mode": {
    "name": "ipython",
    "version": 3
   },
   "file_extension": ".py",
   "mimetype": "text/x-python",
   "name": "python",
   "nbconvert_exporter": "python",
   "pygments_lexer": "ipython3",
   "version": "3.12.4"
  }
 },
 "nbformat": 4,
 "nbformat_minor": 5
}
