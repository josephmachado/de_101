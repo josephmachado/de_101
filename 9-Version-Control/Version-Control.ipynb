{
 "cells": [
  {
   "cell_type": "markdown",
   "id": "9abdc08b-9390-4b93-bfb3-31294187bb78",
   "metadata": {},
   "source": [
    "# Keep track of every change to your code base with version control"
   ]
  },
  {
   "cell_type": "markdown",
   "id": "436aa4a3-5ec1-484f-8de7-ba0e545a9b79",
   "metadata": {},
   "source": [
    "# git = a cli to keep track of every change to your code directory"
   ]
  },
  {
   "cell_type": "markdown",
   "id": "7967d60e-c701-4c7c-974b-aab2ecb03ee7",
   "metadata": {},
   "source": [
    "# GitHub = a SAAS to host your code directory"
   ]
  },
  {
   "cell_type": "markdown",
   "id": "c224f3f3-5631-48fe-a2ef-5dc9a2feeece",
   "metadata": {},
   "source": [
    "# Developer workflow"
   ]
  },
  {
   "cell_type": "markdown",
   "id": "d140b45f-77b6-496f-8710-07dcd8d4ab90",
   "metadata": {},
   "source": [
    "Env\n",
    "\n",
    "local\n",
    "UAT\n",
    "..\n",
    "Prod\n",
    "\n",
    "main -> version of code running in production\n",
    "\n",
    "When developing new features/making changes, you create a branch, develop, test and get reviews on it before merging it into main. The merged code will then be pushed to production (we will see how in the CI/CD chapter)\n"
   ]
  },
  {
   "cell_type": "markdown",
   "id": "cc61b4c8-2e62-443c-87f7-a989a8eecfcb",
   "metadata": {},
   "source": [
    "clone this repo & delete the git folder"
   ]
  },
  {
   "cell_type": "markdown",
   "id": "2c1f54f0-a799-4bea-a3b9-8a529a98e6b4",
   "metadata": {},
   "source": [
    "Create a GitHub repo and push this to the main branch"
   ]
  },
  {
   "cell_type": "markdown",
   "id": "1849f017-49c4-4823-8401-7baae5d29c8c",
   "metadata": {},
   "source": [
    "Create branch"
   ]
  },
  {
   "cell_type": "markdown",
   "id": "bc63fabe-aa8e-47eb-ba3a-ddd049999233",
   "metadata": {},
   "source": [
    "Make change"
   ]
  },
  {
   "cell_type": "markdown",
   "id": "64e6db6b-d4e5-4812-9ae9-b2f1593caf0a",
   "metadata": {},
   "source": [
    "Put up a PR"
   ]
  },
  {
   "cell_type": "code",
   "execution_count": null,
   "id": "ae17b281-46c2-4e60-b69a-7b142aec5049",
   "metadata": {},
   "outputs": [],
   "source": [
    "Ask colleagues for reviews"
   ]
  },
  {
   "cell_type": "markdown",
   "id": "c369c178-03f9-40d3-b60f-f6750e41f8df",
   "metadata": {},
   "source": [
    "Once all comments are addressed and approved, push change to main branch"
   ]
  }
 ],
 "metadata": {
  "kernelspec": {
   "display_name": "Python 3 (ipykernel)",
   "language": "python",
   "name": "python3"
  },
  "language_info": {
   "codemirror_mode": {
    "name": "ipython",
    "version": 3
   },
   "file_extension": ".py",
   "mimetype": "text/x-python",
   "name": "python",
   "nbconvert_exporter": "python",
   "pygments_lexer": "ipython3",
   "version": "3.12.4"
  }
 },
 "nbformat": 4,
 "nbformat_minor": 5
}
