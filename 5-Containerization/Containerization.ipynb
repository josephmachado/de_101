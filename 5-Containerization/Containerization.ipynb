{
 "cells": [
  {
   "cell_type": "markdown",
   "id": "706bda97-2b18-4a20-b96b-c75a3411b66e",
   "metadata": {},
   "source": [
    "# Ensure that your code works on any system with Docker"
   ]
  },
  {
   "cell_type": "code",
   "execution_count": 53,
   "id": "57d6678e-6670-4b24-b37f-232c01ab7136",
   "metadata": {},
   "outputs": [],
   "source": [
    "%%capture\n",
    "! docker build -t dbt-image ."
   ]
  },
  {
   "cell_type": "code",
   "execution_count": 54,
   "id": "faef23cb-d84b-4a53-bced-a67f209a551b",
   "metadata": {},
   "outputs": [
    {
     "name": "stdout",
     "output_type": "stream",
     "text": [
      "zsh:1: no matches found: ./tpch_warehouse/models/*/.ipynb_checkpoints\n"
     ]
    }
   ],
   "source": [
    "! rm -rf ./tpch_warehouse/models/*/.ipynb_checkpoints # always run before dbt run, caused by notebooks, no need to do this if performed via terminal"
   ]
  },
  {
   "cell_type": "code",
   "execution_count": 55,
   "id": "bc6e2c16-f281-40eb-ac6f-d425fbd86cf5",
   "metadata": {},
   "outputs": [
    {
     "name": "stdout",
     "output_type": "stream",
     "text": [
      "\u001b[0m11:40:14  [\u001b[33mWARNING\u001b[0m]: Deprecated functionality\n",
      "\n",
      "User config should be moved from the 'config' key in profiles.yml to the 'flags' key in dbt_project.yml.\n",
      "\u001b[0m11:40:14  Running with dbt=1.8.0\n",
      "\u001b[0m11:40:14  dbt version: 1.8.0\n",
      "\u001b[0m11:40:14  python version: 3.10.15\n",
      "\u001b[0m11:40:14  python path: /usr/local/bin/python3.10\n",
      "\u001b[0m11:40:14  os info: Linux-6.9.3-76060903-generic-x86_64-with-glibc2.36\n",
      "\u001b[0m11:40:14  Using profiles dir at /dbt\n",
      "\u001b[0m11:40:14  Using profiles.yml file at /dbt/profiles.yml\n",
      "\u001b[0m11:40:14  Using dbt_project.yml file at /dbt/dbt_project.yml\n",
      "\u001b[0m11:40:14  adapter type: duckdb\n",
      "\u001b[0m11:40:14  adapter version: 1.8.0\n",
      "\u001b[0m11:40:14  Configuration:\n",
      "\u001b[0m11:40:14    profiles.yml file [\u001b[32mOK found and valid\u001b[0m]\n",
      "\u001b[0m11:40:14    dbt_project.yml file [\u001b[32mOK found and valid\u001b[0m]\n",
      "\u001b[0m11:40:14  Required dependencies:\n",
      "\u001b[0m11:40:14   - git [\u001b[32mOK found\u001b[0m]\n",
      "\n",
      "\u001b[0m11:40:14  Connection:\n",
      "\u001b[0m11:40:14    database: dbt\n",
      "\u001b[0m11:40:14    schema: main\n",
      "\u001b[0m11:40:14    path: ./dbt.duckdb\n",
      "\u001b[0m11:40:14    config_options: None\n",
      "\u001b[0m11:40:14    extensions: None\n",
      "\u001b[0m11:40:14    settings: None\n",
      "\u001b[0m11:40:14    external_root: .\n",
      "\u001b[0m11:40:14    use_credential_provider: None\n",
      "\u001b[0m11:40:14    attach: None\n",
      "\u001b[0m11:40:14    filesystems: None\n",
      "\u001b[0m11:40:14    remote: None\n",
      "\u001b[0m11:40:14    plugins: None\n",
      "\u001b[0m11:40:14    disable_transactions: False\n",
      "\u001b[0m11:40:14  Registered adapter: duckdb=1.8.0\n",
      "\u001b[0m11:40:14    Connection test: [\u001b[32mOK connection ok\u001b[0m]\n",
      "\n",
      "\u001b[0m11:40:14  \u001b[32mAll checks passed!\u001b[0m\n"
     ]
    }
   ],
   "source": [
    "! docker run -it --rm -v $(pwd)/tpch_warehouse:/dbt dbt-image dbt debug"
   ]
  },
  {
   "cell_type": "code",
   "execution_count": 56,
   "id": "65b46a00-00ee-4cc2-bba7-007e44c472e0",
   "metadata": {},
   "outputs": [
    {
     "name": "stdout",
     "output_type": "stream",
     "text": [
      "\u001b[0m11:40:17  [\u001b[33mWARNING\u001b[0m]: Deprecated functionality\n",
      "\n",
      "User config should be moved from the 'config' key in profiles.yml to the 'flags' key in dbt_project.yml.\n",
      "\u001b[0m11:40:17  Running with dbt=1.8.0\n",
      "\u001b[0m11:40:17  Registered adapter: duckdb=1.8.0\n",
      "\u001b[0m11:40:17  [\u001b[33mWARNING\u001b[0m]: Configuration paths exist in your dbt_project.yml file which do not apply to any resources.\n",
      "There are 1 unused configuration paths:\n",
      "- models.tpch_warehouse.example\n",
      "\u001b[0m11:40:17  Found 12 models, 14 data tests, 8 sources, 421 macros\n",
      "\u001b[0m11:40:17  \n",
      "\u001b[0m11:40:18  Concurrency: 1 threads (target='dev')\n",
      "\u001b[0m11:40:18  \n",
      "\u001b[0m11:40:18  1 of 12 START sql view model main.stg_customers ................................ [RUN]\n",
      "\u001b[0m11:40:18  1 of 12 OK created sql view model main.stg_customers ........................... [\u001b[32mOK\u001b[0m in 0.13s]\n",
      "\u001b[0m11:40:18  2 of 12 START sql view model main.stg_lineitems ................................ [RUN]\n",
      "\u001b[0m11:40:18  2 of 12 OK created sql view model main.stg_lineitems ........................... [\u001b[32mOK\u001b[0m in 0.13s]\n",
      "\u001b[0m11:40:18  3 of 12 START sql view model main.stg_nation ................................... [RUN]\n",
      "\u001b[0m11:40:18  3 of 12 OK created sql view model main.stg_nation .............................. [\u001b[32mOK\u001b[0m in 0.05s]\n",
      "\u001b[0m11:40:18  4 of 12 START sql view model main.stg_orders ................................... [RUN]\n",
      "\u001b[0m11:40:18  4 of 12 OK created sql view model main.stg_orders .............................. [\u001b[32mOK\u001b[0m in 0.08s]\n",
      "\u001b[0m11:40:18  5 of 12 START sql view model main.stg_region ................................... [RUN]\n",
      "\u001b[0m11:40:18  5 of 12 OK created sql view model main.stg_region .............................. [\u001b[32mOK\u001b[0m in 0.05s]\n",
      "\u001b[0m11:40:18  6 of 12 START sql view model main.fct_lineitems ................................ [RUN]\n",
      "\u001b[0m11:40:18  6 of 12 OK created sql view model main.fct_lineitems ........................... [\u001b[32mOK\u001b[0m in 0.11s]\n",
      "\u001b[0m11:40:18  7 of 12 START sql view model main.fct_orders ................................... [RUN]\n",
      "\u001b[0m11:40:18  7 of 12 OK created sql view model main.fct_orders .............................. [\u001b[32mOK\u001b[0m in 0.08s]\n",
      "\u001b[0m11:40:18  8 of 12 START sql view model main.dim_customers ................................ [RUN]\n",
      "\u001b[0m11:40:18  8 of 12 OK created sql view model main.dim_customers ........................... [\u001b[32mOK\u001b[0m in 0.06s]\n",
      "\u001b[0m11:40:18  9 of 12 START sql view model main.wide_lineitem ................................ [RUN]\n",
      "\u001b[0m11:40:18  9 of 12 OK created sql view model main.wide_lineitem ........................... [\u001b[32mOK\u001b[0m in 0.11s]\n",
      "\u001b[0m11:40:18  10 of 12 START sql view model main.wide_orders ................................. [RUN]\n",
      "\u001b[0m11:40:19  10 of 12 OK created sql view model main.wide_orders ............................ [\u001b[32mOK\u001b[0m in 0.09s]\n",
      "\u001b[0m11:40:19  11 of 12 START sql view model main.order_lineitem_metrics ...................... [RUN]\n",
      "\u001b[0m11:40:19  11 of 12 OK created sql view model main.order_lineitem_metrics ................. [\u001b[32mOK\u001b[0m in 0.10s]\n",
      "\u001b[0m11:40:19  12 of 12 START sql view model main.customer_outreach_metrics ................... [RUN]\n",
      "\u001b[0m11:40:19  12 of 12 OK created sql view model main.customer_outreach_metrics .............. [\u001b[32mOK\u001b[0m in 0.14s]\n",
      "\u001b[0m11:40:19  \n",
      "\u001b[0m11:40:19  Finished running 12 view models in 0 hours 0 minutes and 1.35 seconds (1.35s).\n",
      "\u001b[0m11:40:19  \n",
      "\u001b[0m11:40:19  \u001b[32mCompleted successfully\u001b[0m\n",
      "\u001b[0m11:40:19  \n",
      "\u001b[0m11:40:19  Done. PASS=12 WARN=0 ERROR=0 SKIP=0 TOTAL=12\n"
     ]
    }
   ],
   "source": [
    "! docker run -it --rm -v $(pwd)/tpch_warehouse:/dbt dbt-image dbt run"
   ]
  },
  {
   "cell_type": "code",
   "execution_count": 57,
   "id": "3b703ef5-e891-41be-953b-b5bc8c244498",
   "metadata": {},
   "outputs": [
    {
     "name": "stdout",
     "output_type": "stream",
     "text": [
      "\u001b[0m11:40:21  [\u001b[33mWARNING\u001b[0m]: Deprecated functionality\n",
      "\n",
      "User config should be moved from the 'config' key in profiles.yml to the 'flags' key in dbt_project.yml.\n",
      "\u001b[0m11:40:21  Running with dbt=1.8.0\n",
      "\u001b[0m11:40:21  Registered adapter: duckdb=1.8.0\n",
      "\u001b[0m11:40:21  [\u001b[33mWARNING\u001b[0m]: Configuration paths exist in your dbt_project.yml file which do not apply to any resources.\n",
      "There are 1 unused configuration paths:\n",
      "- models.tpch_warehouse.example\n",
      "\u001b[0m11:40:22  Found 12 models, 14 data tests, 8 sources, 421 macros\n",
      "\u001b[0m11:40:22  \n",
      "\u001b[0m11:40:22  Concurrency: 1 threads (target='dev')\n",
      "\u001b[0m11:40:22  \n",
      "\u001b[0m11:40:22  1 of 14 START test not_null_dim_customers_customer_key ......................... [RUN]\n",
      "\u001b[0m11:40:22  1 of 14 PASS not_null_dim_customers_customer_key ............................... [\u001b[32mPASS\u001b[0m in 0.07s]\n",
      "\u001b[0m11:40:22  2 of 14 START test not_null_fct_orders_orderkey ................................ [RUN]\n",
      "\u001b[0m11:40:22  2 of 14 PASS not_null_fct_orders_orderkey ...................................... [\u001b[32mPASS\u001b[0m in 0.06s]\n",
      "\u001b[0m11:40:22  3 of 14 START test not_null_stg_customers_customer_key ......................... [RUN]\n",
      "\u001b[0m11:40:22  3 of 14 PASS not_null_stg_customers_customer_key ............................... [\u001b[32mPASS\u001b[0m in 0.03s]\n",
      "\u001b[0m11:40:22  4 of 14 START test not_null_stg_nation_nationkey ............................... [RUN]\n",
      "\u001b[0m11:40:22  4 of 14 PASS not_null_stg_nation_nationkey ..................................... [\u001b[32mPASS\u001b[0m in 0.03s]\n",
      "\u001b[0m11:40:22  5 of 14 START test not_null_stg_orders_orderkey ................................ [RUN]\n",
      "\u001b[0m11:40:22  5 of 14 PASS not_null_stg_orders_orderkey ...................................... [\u001b[32mPASS\u001b[0m in 0.12s]\n",
      "\u001b[0m11:40:22  6 of 14 START test not_null_stg_region_regionkey ............................... [RUN]\n",
      "\u001b[0m11:40:22  6 of 14 PASS not_null_stg_region_regionkey ..................................... [\u001b[32mPASS\u001b[0m in 0.02s]\n",
      "\u001b[0m11:40:22  7 of 14 START test not_null_wide_orders_orderkey ............................... [RUN]\n",
      "\u001b[0m11:40:22  7 of 14 PASS not_null_wide_orders_orderkey ..................................... [\u001b[32mPASS\u001b[0m in 0.07s]\n",
      "\u001b[0m11:40:22  8 of 14 START test unique_dim_customers_customer_key ........................... [RUN]\n",
      "\u001b[0m11:40:22  8 of 14 PASS unique_dim_customers_customer_key ................................. [\u001b[32mPASS\u001b[0m in 0.05s]\n",
      "\u001b[0m11:40:22  9 of 14 START test unique_fct_orders_orderkey .................................. [RUN]\n",
      "\u001b[0m11:40:22  9 of 14 PASS unique_fct_orders_orderkey ........................................ [\u001b[32mPASS\u001b[0m in 0.06s]\n",
      "\u001b[0m11:40:22  10 of 14 START test unique_stg_customers_customer_key .......................... [RUN]\n",
      "\u001b[0m11:40:22  10 of 14 PASS unique_stg_customers_customer_key ................................ [\u001b[32mPASS\u001b[0m in 0.04s]\n",
      "\u001b[0m11:40:22  11 of 14 START test unique_stg_nation_nationkey ................................ [RUN]\n",
      "\u001b[0m11:40:22  11 of 14 PASS unique_stg_nation_nationkey ...................................... [\u001b[32mPASS\u001b[0m in 0.03s]\n",
      "\u001b[0m11:40:22  12 of 14 START test unique_stg_orders_orderkey ................................. [RUN]\n",
      "\u001b[0m11:40:22  12 of 14 PASS unique_stg_orders_orderkey ....................................... [\u001b[32mPASS\u001b[0m in 0.07s]\n",
      "\u001b[0m11:40:22  13 of 14 START test unique_stg_region_regionkey ................................ [RUN]\n",
      "\u001b[0m11:40:22  13 of 14 PASS unique_stg_region_regionkey ...................................... [\u001b[32mPASS\u001b[0m in 0.03s]\n",
      "\u001b[0m11:40:22  14 of 14 START test unique_wide_orders_orderkey ................................ [RUN]\n",
      "\u001b[0m11:40:22  14 of 14 PASS unique_wide_orders_orderkey ...................................... [\u001b[32mPASS\u001b[0m in 0.08s]\n",
      "\u001b[0m11:40:22  \n",
      "\u001b[0m11:40:22  Finished running 14 data tests in 0 hours 0 minutes and 0.92 seconds (0.92s).\n",
      "\u001b[0m11:40:22  \n",
      "\u001b[0m11:40:22  \u001b[32mCompleted successfully\u001b[0m\n",
      "\u001b[0m11:40:22  \n",
      "\u001b[0m11:40:22  Done. PASS=14 WARN=0 ERROR=0 SKIP=0 TOTAL=14\n"
     ]
    }
   ],
   "source": [
    "! docker run -it --rm -v $(pwd)/tpch_warehouse:/dbt dbt-image dbt test"
   ]
  },
  {
   "cell_type": "code",
   "execution_count": 58,
   "id": "0b29db9e-388c-4029-8194-cdce65da47d2",
   "metadata": {},
   "outputs": [
    {
     "name": "stdout",
     "output_type": "stream",
     "text": [
      "\u001b[0m11:40:24  [\u001b[33mWARNING\u001b[0m]: Deprecated functionality\n",
      "\n",
      "User config should be moved from the 'config' key in profiles.yml to the 'flags' key in dbt_project.yml.\n",
      "\u001b[0m11:40:24  Running with dbt=1.8.0\n",
      "\u001b[0m11:40:25  Registered adapter: duckdb=1.8.0\n",
      "\u001b[0m11:40:25  [\u001b[33mWARNING\u001b[0m]: Configuration paths exist in your dbt_project.yml file which do not apply to any resources.\n",
      "There are 1 unused configuration paths:\n",
      "- models.tpch_warehouse.example\n",
      "\u001b[0m11:40:25  Found 12 models, 14 data tests, 8 sources, 421 macros\n",
      "\u001b[0m11:40:25  \n",
      "\u001b[0m11:40:25  Concurrency: 1 threads (target='dev')\n",
      "\u001b[0m11:40:25  \n",
      "\u001b[0m11:40:25  Building catalog\n",
      "\u001b[0m11:40:26  Catalog written to /dbt/target/catalog.json\n"
     ]
    }
   ],
   "source": [
    "! docker run -it --rm -v $(pwd)/tpch_warehouse:/dbt dbt-image dbt docs generate"
   ]
  },
  {
   "cell_type": "code",
   "execution_count": 59,
   "id": "579e3a8a-5c11-4b1d-b84d-4ae218223565",
   "metadata": {
    "scrolled": true
   },
   "outputs": [
    {
     "name": "stdout",
     "output_type": "stream",
     "text": [
      "\u001b[0m11:40:28  [\u001b[33mWARNING\u001b[0m]: Deprecated functionality\n",
      "\n",
      "User config should be moved from the 'config' key in profiles.yml to the 'flags' key in dbt_project.yml.\n",
      "\u001b[0m11:40:28  Running with dbt=1.8.0\n",
      "Serving docs at 8080\n",
      "To access from your browser, navigate to: http://localhost:8080\n",
      "\n",
      "\n",
      "\n",
      "Press Ctrl+C to exit.\n",
      "172.17.0.1 - - [30/Oct/2024 11:40:31] \"GET / HTTP/1.1\" 200 -\n",
      "172.17.0.1 - - [30/Oct/2024 11:40:32] \"GET /manifest.json?cb=1730288432069 HTTP/1.1\" 200 -\n",
      "172.17.0.1 - - [30/Oct/2024 11:40:32] \"GET /catalog.json?cb=1730288432069 HTTP/1.1\" 200 -\n",
      "^C\n",
      "\u001b[0m11:40:37  Encountered an error:\n",
      "\n",
      "\u001b[0m11:40:37  Traceback (most recent call last):\n",
      "  File \"/usr/local/lib/python3.10/site-packages/dbt/cli/requires.py\", line 138, in wrapper\n",
      "    result, success = func(*args, **kwargs)\n",
      "  File \"/usr/local/lib/python3.10/site-packages/dbt/cli/requires.py\", line 101, in wrapper\n",
      "    return func(*args, **kwargs)\n",
      "  File \"/usr/local/lib/python3.10/site-packages/dbt/cli/requires.py\", line 218, in wrapper\n",
      "    return func(*args, **kwargs)\n",
      "  File \"/usr/local/lib/python3.10/site-packages/dbt/cli/requires.py\", line 247, in wrapper\n",
      "    return func(*args, **kwargs)\n",
      "  File \"/usr/local/lib/python3.10/site-packages/dbt/cli/requires.py\", line 294, in wrapper\n",
      "    return func(*args, **kwargs)\n",
      "  File \"/usr/local/lib/python3.10/site-packages/dbt/cli/main.py\", line 302, in docs_serve\n",
      "    results = task.run()\n",
      "  File \"/usr/local/lib/python3.10/site-packages/dbt/task/docs/serve.py\", line 28, in run\n",
      "    httpd.serve_forever()\n",
      "  File \"/usr/local/lib/python3.10/socketserver.py\", line 232, in serve_forever\n",
      "    ready = selector.select(poll_interval)\n",
      "  File \"/usr/local/lib/python3.10/selectors.py\", line 416, in select\n",
      "    fd_event_list = self._selector.poll(timeout)\n",
      "KeyboardInterrupt\n",
      "\n"
     ]
    }
   ],
   "source": [
    "! docker run -it --rm -v $(pwd)/tpch_warehouse:/dbt -p 8080:8080 dbt-image dbt docs serve"
   ]
  },
  {
   "cell_type": "code",
   "execution_count": 60,
   "id": "1d00d458-b820-4fa7-bf7b-bb9e801bbc06",
   "metadata": {
    "scrolled": true
   },
   "outputs": [
    {
     "name": "stdout",
     "output_type": "stream",
     "text": [
      "Error response from daemon: No such container: dbt-image\n"
     ]
    }
   ],
   "source": [
    "! docker stop dbt-image"
   ]
  },
  {
   "cell_type": "code",
   "execution_count": 61,
   "id": "a53a648d-1754-41fc-b1a8-eb5a37dfbbe7",
   "metadata": {},
   "outputs": [
    {
     "name": "stdout",
     "output_type": "stream",
     "text": [
      "Error response from daemon: No such container: dbt-image\n"
     ]
    }
   ],
   "source": [
    "! docker rm dbt-image"
   ]
  },
  {
   "cell_type": "code",
   "execution_count": 62,
   "id": "6acbc291-5f47-47b8-ace9-8dda25c28fa3",
   "metadata": {},
   "outputs": [
    {
     "name": "stdout",
     "output_type": "stream",
     "text": [
      "CONTAINER ID   IMAGE     COMMAND   CREATED   STATUS    PORTS     NAMES\n"
     ]
    }
   ],
   "source": [
    "! docker ps"
   ]
  },
  {
   "cell_type": "code",
   "execution_count": 63,
   "id": "28b692f2-ad2b-4022-9ad9-da8f0403ab88",
   "metadata": {},
   "outputs": [],
   "source": [
    "%%capture\n",
    "! docker compose up --build -d"
   ]
  },
  {
   "cell_type": "code",
   "execution_count": 64,
   "id": "eef1e83d-5d91-4eb9-adb4-79224d3f75f5",
   "metadata": {},
   "outputs": [
    {
     "name": "stdout",
     "output_type": "stream",
     "text": [
      "\u001b[33mWARN\u001b[0m[0000] /home/josephkevinmachado/code/de_101/5-Containerization/docker-compose.yml: the attribute `version` is obsolete, it will be ignored, please remove it to avoid potential confusion \n",
      "\u001b[33mWARN\u001b[0m[0000] Found orphan containers ([5-containerization-dbt-run-a13de9a3d99b 5-containerization-dbt-run-9a3aa89432ba 5-containerization-dbt-run-9c40d039bf29 5-containerization-dbt-run-e1e0188867f3 5-containerization-dbt-run-01903648e968 5-containerization-dbt-run-791eba2c0fd7 5-containerization-dbt-run-b05a1f41a1dd]) for this project. If you removed or renamed this service in your compose file, you can run this command with the --remove-orphans flag to clean it up. \n",
      "\u001b[0m11:40:40  [\u001b[33mWARNING\u001b[0m]: Deprecated functionality\n",
      "\n",
      "User config should be moved from the 'config' key in profiles.yml to the 'flags' key in dbt_project.yml.\n",
      "\u001b[0m11:40:41  Running with dbt=1.8.0\n",
      "\u001b[0m11:40:41  Registered adapter: duckdb=1.8.0\n",
      "\u001b[0m11:40:41  [\u001b[33mWARNING\u001b[0m]: Configuration paths exist in your dbt_project.yml file which do not apply to any resources.\n",
      "There are 1 unused configuration paths:\n",
      "- models.tpch_warehouse.example\n",
      "\u001b[0m11:40:41  Found 12 models, 14 data tests, 8 sources, 421 macros\n",
      "\u001b[0m11:40:41  \n",
      "\u001b[0m11:40:41  Concurrency: 1 threads (target='dev')\n",
      "\u001b[0m11:40:41  \n",
      "\u001b[0m11:40:41  1 of 12 START sql view model main.stg_customers ................................ [RUN]\n",
      "\u001b[0m11:40:42  1 of 12 OK created sql view model main.stg_customers ........................... [\u001b[32mOK\u001b[0m in 0.14s]\n",
      "\u001b[0m11:40:42  2 of 12 START sql view model main.stg_lineitems ................................ [RUN]\n",
      "\u001b[0m11:40:42  2 of 12 OK created sql view model main.stg_lineitems ........................... [\u001b[32mOK\u001b[0m in 0.14s]\n",
      "\u001b[0m11:40:42  3 of 12 START sql view model main.stg_nation ................................... [RUN]\n",
      "\u001b[0m11:40:42  3 of 12 OK created sql view model main.stg_nation .............................. [\u001b[32mOK\u001b[0m in 0.06s]\n",
      "\u001b[0m11:40:42  4 of 12 START sql view model main.stg_orders ................................... [RUN]\n",
      "\u001b[0m11:40:42  4 of 12 OK created sql view model main.stg_orders .............................. [\u001b[32mOK\u001b[0m in 0.09s]\n",
      "\u001b[0m11:40:42  5 of 12 START sql view model main.stg_region ................................... [RUN]\n",
      "\u001b[0m11:40:42  5 of 12 OK created sql view model main.stg_region .............................. [\u001b[32mOK\u001b[0m in 0.05s]\n",
      "\u001b[0m11:40:42  6 of 12 START sql view model main.fct_lineitems ................................ [RUN]\n",
      "\u001b[0m11:40:42  6 of 12 OK created sql view model main.fct_lineitems ........................... [\u001b[32mOK\u001b[0m in 0.10s]\n",
      "\u001b[0m11:40:42  7 of 12 START sql view model main.fct_orders ................................... [RUN]\n",
      "\u001b[0m11:40:42  7 of 12 OK created sql view model main.fct_orders .............................. [\u001b[32mOK\u001b[0m in 0.08s]\n",
      "\u001b[0m11:40:42  8 of 12 START sql view model main.dim_customers ................................ [RUN]\n",
      "\u001b[0m11:40:42  8 of 12 OK created sql view model main.dim_customers ........................... [\u001b[32mOK\u001b[0m in 0.07s]\n",
      "\u001b[0m11:40:42  9 of 12 START sql view model main.wide_lineitem ................................ [RUN]\n",
      "\u001b[0m11:40:42  9 of 12 OK created sql view model main.wide_lineitem ........................... [\u001b[32mOK\u001b[0m in 0.10s]\n",
      "\u001b[0m11:40:42  10 of 12 START sql view model main.wide_orders ................................. [RUN]\n",
      "\u001b[0m11:40:42  10 of 12 OK created sql view model main.wide_orders ............................ [\u001b[32mOK\u001b[0m in 0.10s]\n",
      "\u001b[0m11:40:42  11 of 12 START sql view model main.order_lineitem_metrics ...................... [RUN]\n",
      "\u001b[0m11:40:42  11 of 12 OK created sql view model main.order_lineitem_metrics ................. [\u001b[32mOK\u001b[0m in 0.12s]\n",
      "\u001b[0m11:40:42  12 of 12 START sql view model main.customer_outreach_metrics ................... [RUN]\n",
      "\u001b[0m11:40:43  12 of 12 OK created sql view model main.customer_outreach_metrics .............. [\u001b[32mOK\u001b[0m in 0.21s]\n",
      "\u001b[0m11:40:43  \n",
      "\u001b[0m11:40:43  Finished running 12 view models in 0 hours 0 minutes and 1.50 seconds (1.50s).\n",
      "\u001b[0m11:40:43  \n",
      "\u001b[0m11:40:43  \u001b[32mCompleted successfully\u001b[0m\n",
      "\u001b[0m11:40:43  \n",
      "\u001b[0m11:40:43  Done. PASS=12 WARN=0 ERROR=0 SKIP=0 TOTAL=12\n"
     ]
    }
   ],
   "source": [
    "! docker compose run dbt dbt run "
   ]
  },
  {
   "cell_type": "code",
   "execution_count": 65,
   "id": "d6a1ae9f-3e69-4988-a368-f61338504b2c",
   "metadata": {},
   "outputs": [
    {
     "name": "stdout",
     "output_type": "stream",
     "text": [
      "\u001b[33mWARN\u001b[0m[0000] /home/josephkevinmachado/code/de_101/5-Containerization/docker-compose.yml: the attribute `version` is obsolete, it will be ignored, please remove it to avoid potential confusion \n",
      "\u001b[33mWARN\u001b[0m[0000] Found orphan containers ([5-containerization-dbt-run-d86d22b7f313 5-containerization-dbt-run-a13de9a3d99b 5-containerization-dbt-run-9a3aa89432ba 5-containerization-dbt-run-9c40d039bf29 5-containerization-dbt-run-e1e0188867f3 5-containerization-dbt-run-01903648e968 5-containerization-dbt-run-791eba2c0fd7 5-containerization-dbt-run-b05a1f41a1dd]) for this project. If you removed or renamed this service in your compose file, you can run this command with the --remove-orphans flag to clean it up. \n",
      "\u001b[0m11:40:45  [\u001b[33mWARNING\u001b[0m]: Deprecated functionality\n",
      "\n",
      "User config should be moved from the 'config' key in profiles.yml to the 'flags' key in dbt_project.yml.\n",
      "\u001b[0m11:40:45  Running with dbt=1.8.0\n",
      "\u001b[0m11:40:45  Registered adapter: duckdb=1.8.0\n",
      "\u001b[0m11:40:46  [\u001b[33mWARNING\u001b[0m]: Configuration paths exist in your dbt_project.yml file which do not apply to any resources.\n",
      "There are 1 unused configuration paths:\n",
      "- models.tpch_warehouse.example\n",
      "\u001b[0m11:40:46  Found 12 models, 14 data tests, 8 sources, 421 macros\n",
      "\u001b[0m11:40:46  \n",
      "\u001b[0m11:40:46  Concurrency: 1 threads (target='dev')\n",
      "\u001b[0m11:40:46  \n",
      "\u001b[0m11:40:46  1 of 14 START test not_null_dim_customers_customer_key ......................... [RUN]\n",
      "\u001b[0m11:40:46  1 of 14 PASS not_null_dim_customers_customer_key ............................... [\u001b[32mPASS\u001b[0m in 0.07s]\n",
      "\u001b[0m11:40:46  2 of 14 START test not_null_fct_orders_orderkey ................................ [RUN]\n",
      "\u001b[0m11:40:46  2 of 14 PASS not_null_fct_orders_orderkey ...................................... [\u001b[32mPASS\u001b[0m in 0.05s]\n",
      "\u001b[0m11:40:46  3 of 14 START test not_null_stg_customers_customer_key ......................... [RUN]\n",
      "\u001b[0m11:40:46  3 of 14 PASS not_null_stg_customers_customer_key ............................... [\u001b[32mPASS\u001b[0m in 0.04s]\n",
      "\u001b[0m11:40:46  4 of 14 START test not_null_stg_nation_nationkey ............................... [RUN]\n",
      "\u001b[0m11:40:46  4 of 14 PASS not_null_stg_nation_nationkey ..................................... [\u001b[32mPASS\u001b[0m in 0.03s]\n",
      "\u001b[0m11:40:46  5 of 14 START test not_null_stg_orders_orderkey ................................ [RUN]\n",
      "\u001b[0m11:40:46  5 of 14 PASS not_null_stg_orders_orderkey ...................................... [\u001b[32mPASS\u001b[0m in 0.13s]\n",
      "\u001b[0m11:40:46  6 of 14 START test not_null_stg_region_regionkey ............................... [RUN]\n",
      "\u001b[0m11:40:46  6 of 14 PASS not_null_stg_region_regionkey ..................................... [\u001b[32mPASS\u001b[0m in 0.03s]\n",
      "\u001b[0m11:40:46  7 of 14 START test not_null_wide_orders_orderkey ............................... [RUN]\n",
      "\u001b[0m11:40:46  7 of 14 PASS not_null_wide_orders_orderkey ..................................... [\u001b[32mPASS\u001b[0m in 0.10s]\n",
      "\u001b[0m11:40:46  8 of 14 START test unique_dim_customers_customer_key ........................... [RUN]\n",
      "\u001b[0m11:40:46  8 of 14 PASS unique_dim_customers_customer_key ................................. [\u001b[32mPASS\u001b[0m in 0.06s]\n",
      "\u001b[0m11:40:46  9 of 14 START test unique_fct_orders_orderkey .................................. [RUN]\n",
      "\u001b[0m11:40:46  9 of 14 PASS unique_fct_orders_orderkey ........................................ [\u001b[32mPASS\u001b[0m in 0.06s]\n",
      "\u001b[0m11:40:46  10 of 14 START test unique_stg_customers_customer_key .......................... [RUN]\n",
      "\u001b[0m11:40:47  10 of 14 PASS unique_stg_customers_customer_key ................................ [\u001b[32mPASS\u001b[0m in 0.04s]\n",
      "\u001b[0m11:40:47  11 of 14 START test unique_stg_nation_nationkey ................................ [RUN]\n",
      "\u001b[0m11:40:47  11 of 14 PASS unique_stg_nation_nationkey ...................................... [\u001b[32mPASS\u001b[0m in 0.03s]\n",
      "\u001b[0m11:40:47  12 of 14 START test unique_stg_orders_orderkey ................................. [RUN]\n",
      "\u001b[0m11:40:47  12 of 14 PASS unique_stg_orders_orderkey ....................................... [\u001b[32mPASS\u001b[0m in 0.07s]\n",
      "\u001b[0m11:40:47  13 of 14 START test unique_stg_region_regionkey ................................ [RUN]\n",
      "\u001b[0m11:40:47  13 of 14 PASS unique_stg_region_regionkey ...................................... [\u001b[32mPASS\u001b[0m in 0.02s]\n",
      "\u001b[0m11:40:47  14 of 14 START test unique_wide_orders_orderkey ................................ [RUN]\n",
      "\u001b[0m11:40:47  14 of 14 PASS unique_wide_orders_orderkey ...................................... [\u001b[32mPASS\u001b[0m in 0.08s]\n",
      "\u001b[0m11:40:47  \n",
      "\u001b[0m11:40:47  Finished running 14 data tests in 0 hours 0 minutes and 0.97 seconds (0.97s).\n",
      "\u001b[0m11:40:47  \n",
      "\u001b[0m11:40:47  \u001b[32mCompleted successfully\u001b[0m\n",
      "\u001b[0m11:40:47  \n",
      "\u001b[0m11:40:47  Done. PASS=14 WARN=0 ERROR=0 SKIP=0 TOTAL=14\n"
     ]
    }
   ],
   "source": [
    "! docker compose run dbt dbt test"
   ]
  },
  {
   "cell_type": "code",
   "execution_count": 66,
   "id": "9618c5ae-5d24-4f3d-8c81-b2d395a1735e",
   "metadata": {},
   "outputs": [
    {
     "name": "stdout",
     "output_type": "stream",
     "text": [
      "\u001b[33mWARN\u001b[0m[0000] /home/josephkevinmachado/code/de_101/5-Containerization/docker-compose.yml: the attribute `version` is obsolete, it will be ignored, please remove it to avoid potential confusion \n",
      "\u001b[33mWARN\u001b[0m[0000] Found orphan containers ([5-containerization-dbt-run-cac1c5135644 5-containerization-dbt-run-d86d22b7f313 5-containerization-dbt-run-a13de9a3d99b 5-containerization-dbt-run-9a3aa89432ba 5-containerization-dbt-run-9c40d039bf29 5-containerization-dbt-run-e1e0188867f3 5-containerization-dbt-run-01903648e968 5-containerization-dbt-run-791eba2c0fd7 5-containerization-dbt-run-b05a1f41a1dd]) for this project. If you removed or renamed this service in your compose file, you can run this command with the --remove-orphans flag to clean it up. \n",
      "\u001b[0m11:40:49  [\u001b[33mWARNING\u001b[0m]: Deprecated functionality\n",
      "\n",
      "User config should be moved from the 'config' key in profiles.yml to the 'flags' key in dbt_project.yml.\n",
      "\u001b[0m11:40:49  Running with dbt=1.8.0\n",
      "\u001b[0m11:40:49  Registered adapter: duckdb=1.8.0\n",
      "\u001b[0m11:40:50  [\u001b[33mWARNING\u001b[0m]: Configuration paths exist in your dbt_project.yml file which do not apply to any resources.\n",
      "There are 1 unused configuration paths:\n",
      "- models.tpch_warehouse.example\n",
      "\u001b[0m11:40:50  Found 12 models, 14 data tests, 8 sources, 421 macros\n",
      "\u001b[0m11:40:50  \n",
      "\u001b[0m11:40:50  Concurrency: 1 threads (target='dev')\n",
      "\u001b[0m11:40:50  \n",
      "\u001b[0m11:40:50  Building catalog\n",
      "\u001b[0m11:40:50  Catalog written to /dbt/target/catalog.json\n"
     ]
    }
   ],
   "source": [
    "! docker compose run dbt dbt docs generate"
   ]
  },
  {
   "cell_type": "code",
   "execution_count": 67,
   "id": "eccea1d4-deab-4c89-b10f-35a45f0be78e",
   "metadata": {},
   "outputs": [
    {
     "name": "stdout",
     "output_type": "stream",
     "text": [
      "\u001b[33mWARN\u001b[0m[0000] /home/josephkevinmachado/code/de_101/5-Containerization/docker-compose.yml: the attribute `version` is obsolete, it will be ignored, please remove it to avoid potential confusion \n",
      "\u001b[33mWARN\u001b[0m[0000] Found orphan containers ([5-containerization-dbt-run-1bf2c4f60043 5-containerization-dbt-run-cac1c5135644 5-containerization-dbt-run-d86d22b7f313 5-containerization-dbt-run-a13de9a3d99b 5-containerization-dbt-run-9a3aa89432ba 5-containerization-dbt-run-9c40d039bf29 5-containerization-dbt-run-e1e0188867f3 5-containerization-dbt-run-01903648e968 5-containerization-dbt-run-791eba2c0fd7 5-containerization-dbt-run-b05a1f41a1dd]) for this project. If you removed or renamed this service in your compose file, you can run this command with the --remove-orphans flag to clean it up. \n",
      "\u001b[0m11:40:52  [\u001b[33mWARNING\u001b[0m]: Deprecated functionality\n",
      "\n",
      "User config should be moved from the 'config' key in profiles.yml to the 'flags' key in dbt_project.yml.\n",
      "\u001b[0m11:40:52  Running with dbt=1.8.0\n",
      "Serving docs at 8080\n",
      "To access from your browser, navigate to: http://localhost:8080\n",
      "\n",
      "\n",
      "\n",
      "Press Ctrl+C to exit.\n",
      "172.22.0.1 - - [30/Oct/2024 11:41:01] \"GET / HTTP/1.1\" 200 -\n",
      "172.22.0.1 - - [30/Oct/2024 11:41:02] \"GET /manifest.json?cb=1730288462132 HTTP/1.1\" 200 -\n",
      "172.22.0.1 - - [30/Oct/2024 11:41:02] \"GET /catalog.json?cb=1730288462132 HTTP/1.1\" 200 -\n",
      "^C\n",
      "\u001b[0m11:41:10  Encountered an error:\n",
      "\n",
      "\u001b[0m11:41:10  Traceback (most recent call last):\n",
      "  File \"/usr/local/lib/python3.10/site-packages/dbt/cli/requires.py\", line 138, in wrapper\n",
      "    result, success = func(*args, **kwargs)\n",
      "  File \"/usr/local/lib/python3.10/site-packages/dbt/cli/requires.py\", line 101, in wrapper\n",
      "    return func(*args, **kwargs)\n",
      "  File \"/usr/local/lib/python3.10/site-packages/dbt/cli/requires.py\", line 218, in wrapper\n",
      "    return func(*args, **kwargs)\n",
      "  File \"/usr/local/lib/python3.10/site-packages/dbt/cli/requires.py\", line 247, in wrapper\n",
      "    return func(*args, **kwargs)\n",
      "  File \"/usr/local/lib/python3.10/site-packages/dbt/cli/requires.py\", line 294, in wrapper\n",
      "    return func(*args, **kwargs)\n",
      "  File \"/usr/local/lib/python3.10/site-packages/dbt/cli/main.py\", line 302, in docs_serve\n",
      "    results = task.run()\n",
      "  File \"/usr/local/lib/python3.10/site-packages/dbt/task/docs/serve.py\", line 28, in run\n",
      "    httpd.serve_forever()\n",
      "  File \"/usr/local/lib/python3.10/socketserver.py\", line 232, in serve_forever\n",
      "    ready = selector.select(poll_interval)\n",
      "  File \"/usr/local/lib/python3.10/selectors.py\", line 416, in select\n",
      "    fd_event_list = self._selector.poll(timeout)\n",
      "KeyboardInterrupt\n",
      "\n"
     ]
    }
   ],
   "source": [
    "! docker compose run -p 8081:8080 dbt dbt docs serve"
   ]
  },
  {
   "cell_type": "code",
   "execution_count": 68,
   "id": "22a676b4-6508-4148-8297-0fb277ae0aa7",
   "metadata": {},
   "outputs": [],
   "source": [
    "%%capture\n",
    "! docker compose down "
   ]
  },
  {
   "cell_type": "code",
   "execution_count": 69,
   "id": "51d16872-5026-48f5-bb73-ff090166e203",
   "metadata": {},
   "outputs": [
    {
     "name": "stdout",
     "output_type": "stream",
     "text": [
      "CONTAINER ID   IMAGE     COMMAND   CREATED   STATUS    PORTS     NAMES\n"
     ]
    }
   ],
   "source": [
    "! docker ps"
   ]
  },
  {
   "cell_type": "markdown",
   "id": "9478febb-0284-40a4-b6e4-3b5175a25e21",
   "metadata": {},
   "source": [
    "## Define the OS you want to run your code on with an Image"
   ]
  },
  {
   "cell_type": "markdown",
   "id": "fb74a151-b4f0-4dfc-a82c-d97b2efafda9",
   "metadata": {},
   "source": [
    "## Containers are where your OS (& code) runs, they are created from Image"
   ]
  },
  {
   "cell_type": "markdown",
   "id": "f0949982-d00a-400e-97f9-144e8822960a",
   "metadata": {},
   "source": [
    "### Containers can be always running or only exist for the duration of your code"
   ]
  },
  {
   "cell_type": "markdown",
   "id": "eb725589-6053-44de-b4b3-93743ef6f4d7",
   "metadata": {},
   "source": [
    "## Containers can interact with your local OS"
   ]
  },
  {
   "cell_type": "markdown",
   "id": "8d0a42a1-e13d-4aa9-a899-75b3a7c38da1",
   "metadata": {},
   "source": [
    "### Ensure ports are open for your code to interact with other systems"
   ]
  },
  {
   "cell_type": "markdown",
   "id": "f32fefd1-bb38-4299-a2cd-7400c5fde43d",
   "metadata": {},
   "source": [
    "### Ensure code/data is synced between your local OS and your container with `volume mounts`"
   ]
  },
  {
   "cell_type": "markdown",
   "id": "037b9a7f-5af3-4e5f-b07e-d7a5cc86829a",
   "metadata": {},
   "source": [
    "## Orchestrate multiple containers with `docker compose`"
   ]
  },
  {
   "cell_type": "markdown",
   "id": "ce9de536-289e-466d-b25b-ef6140deed15",
   "metadata": {},
   "source": [
    "## Let's run our dbt pipeline with `docker exec`"
   ]
  }
 ],
 "metadata": {
  "kernelspec": {
   "display_name": "Python 3 (ipykernel)",
   "language": "python",
   "name": "python3"
  },
  "language_info": {
   "codemirror_mode": {
    "name": "ipython",
    "version": 3
   },
   "file_extension": ".py",
   "mimetype": "text/x-python",
   "name": "python",
   "nbconvert_exporter": "python",
   "pygments_lexer": "ipython3",
   "version": "3.12.4"
  }
 },
 "nbformat": 4,
 "nbformat_minor": 5
}
