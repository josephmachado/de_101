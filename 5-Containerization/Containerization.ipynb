{
 "cells": [
  {
   "cell_type": "markdown",
   "id": "706bda97-2b18-4a20-b96b-c75a3411b66e",
   "metadata": {},
   "source": [
    "# Ensure that your code works on any system with Docker"
   ]
  },
  {
   "cell_type": "code",
   "execution_count": null,
   "id": "57d6678e-6670-4b24-b37f-232c01ab7136",
   "metadata": {},
   "outputs": [],
   "source": [
    "%%capture\n",
    "! docker build -t dbt-image ."
   ]
  },
  {
   "cell_type": "code",
   "execution_count": null,
   "id": "faef23cb-d84b-4a53-bced-a67f209a551b",
   "metadata": {},
   "outputs": [],
   "source": [
    "! rm -rf ./tpch_warehouse/models/*/.ipynb_checkpoints # always run before dbt run, caused by notebooks, no need to do this if performed via terminal"
   ]
  },
  {
   "cell_type": "code",
   "execution_count": null,
   "id": "bc6e2c16-f281-40eb-ac6f-d425fbd86cf5",
   "metadata": {},
   "outputs": [],
   "source": [
    "! docker run -it --rm -v $(pwd)/tpch_warehouse:/dbt dbt-image dbt debug"
   ]
  },
  {
   "cell_type": "code",
   "execution_count": null,
   "id": "65b46a00-00ee-4cc2-bba7-007e44c472e0",
   "metadata": {},
   "outputs": [],
   "source": [
    "! docker run -it --rm -v $(pwd)/tpch_warehouse:/dbt dbt-image dbt run"
   ]
  },
  {
   "cell_type": "code",
   "execution_count": null,
   "id": "3b703ef5-e891-41be-953b-b5bc8c244498",
   "metadata": {},
   "outputs": [],
   "source": [
    "! docker run -it --rm -v $(pwd)/tpch_warehouse:/dbt dbt-image dbt test"
   ]
  },
  {
   "cell_type": "code",
   "execution_count": null,
   "id": "0b29db9e-388c-4029-8194-cdce65da47d2",
   "metadata": {},
   "outputs": [],
   "source": [
    "! docker run -it --rm -v $(pwd)/tpch_warehouse:/dbt dbt-image dbt docs generate"
   ]
  },
  {
   "cell_type": "code",
   "execution_count": null,
   "id": "579e3a8a-5c11-4b1d-b84d-4ae218223565",
   "metadata": {
    "scrolled": true
   },
   "outputs": [],
   "source": [
    "! docker run -it --rm -v $(pwd)/tpch_warehouse:/dbt -p 8080:8080 dbt-image dbt docs serve"
   ]
  },
  {
   "cell_type": "code",
   "execution_count": null,
   "id": "1d00d458-b820-4fa7-bf7b-bb9e801bbc06",
   "metadata": {
    "scrolled": true
   },
   "outputs": [],
   "source": [
    "! docker stop dbt-image"
   ]
  },
  {
   "cell_type": "code",
   "execution_count": null,
   "id": "a53a648d-1754-41fc-b1a8-eb5a37dfbbe7",
   "metadata": {},
   "outputs": [],
   "source": [
    "! docker rm dbt-image"
   ]
  },
  {
   "cell_type": "code",
   "execution_count": null,
   "id": "6acbc291-5f47-47b8-ace9-8dda25c28fa3",
   "metadata": {},
   "outputs": [],
   "source": [
    "! docker ps"
   ]
  },
  {
   "cell_type": "code",
   "execution_count": null,
   "id": "28b692f2-ad2b-4022-9ad9-da8f0403ab88",
   "metadata": {},
   "outputs": [],
   "source": [
    "%%capture\n",
    "! docker compose up --build -d"
   ]
  },
  {
   "cell_type": "code",
   "execution_count": null,
   "id": "eef1e83d-5d91-4eb9-adb4-79224d3f75f5",
   "metadata": {},
   "outputs": [],
   "source": [
    "! docker compose run dbt dbt run "
   ]
  },
  {
   "cell_type": "code",
   "execution_count": null,
   "id": "d6a1ae9f-3e69-4988-a368-f61338504b2c",
   "metadata": {},
   "outputs": [],
   "source": [
    "! docker compose run dbt dbt test"
   ]
  },
  {
   "cell_type": "code",
   "execution_count": null,
   "id": "9618c5ae-5d24-4f3d-8c81-b2d395a1735e",
   "metadata": {},
   "outputs": [],
   "source": [
    "! docker compose run dbt dbt docs generate"
   ]
  },
  {
   "cell_type": "code",
   "execution_count": null,
   "id": "eccea1d4-deab-4c89-b10f-35a45f0be78e",
   "metadata": {},
   "outputs": [],
   "source": [
    "! docker compose run -p 8081:8080 dbt dbt docs serve"
   ]
  },
  {
   "cell_type": "code",
   "execution_count": null,
   "id": "22a676b4-6508-4148-8297-0fb277ae0aa7",
   "metadata": {},
   "outputs": [],
   "source": [
    "%%capture\n",
    "! docker compose down "
   ]
  },
  {
   "cell_type": "code",
   "execution_count": null,
   "id": "51d16872-5026-48f5-bb73-ff090166e203",
   "metadata": {},
   "outputs": [],
   "source": [
    "! docker ps"
   ]
  },
  {
   "cell_type": "markdown",
   "id": "9478febb-0284-40a4-b6e4-3b5175a25e21",
   "metadata": {},
   "source": [
    "## Define the OS you want to run your code on with an Image"
   ]
  },
  {
   "cell_type": "markdown",
   "id": "fb74a151-b4f0-4dfc-a82c-d97b2efafda9",
   "metadata": {},
   "source": [
    "## Containers are where your OS (& code) runs, they are created from Image"
   ]
  },
  {
   "cell_type": "markdown",
   "id": "f0949982-d00a-400e-97f9-144e8822960a",
   "metadata": {},
   "source": [
    "### Containers can be always running or only exist for the duration of your code"
   ]
  },
  {
   "cell_type": "markdown",
   "id": "eb725589-6053-44de-b4b3-93743ef6f4d7",
   "metadata": {},
   "source": [
    "## Containers can interact with your local OS"
   ]
  },
  {
   "cell_type": "markdown",
   "id": "8d0a42a1-e13d-4aa9-a899-75b3a7c38da1",
   "metadata": {},
   "source": [
    "### Ensure ports are open for your code to interact with other systems"
   ]
  },
  {
   "cell_type": "markdown",
   "id": "f32fefd1-bb38-4299-a2cd-7400c5fde43d",
   "metadata": {},
   "source": [
    "### Ensure code/data is synced between your local OS and your container with `volume mounts`"
   ]
  },
  {
   "cell_type": "markdown",
   "id": "037b9a7f-5af3-4e5f-b07e-d7a5cc86829a",
   "metadata": {},
   "source": [
    "## Orchestrate multiple containers with `docker compose`"
   ]
  },
  {
   "cell_type": "markdown",
   "id": "ce9de536-289e-466d-b25b-ef6140deed15",
   "metadata": {},
   "source": [
    "## Let's run our dbt pipeline with `docker exec`"
   ]
  }
 ],
 "metadata": {
  "kernelspec": {
   "display_name": "Python 3 (ipykernel)",
   "language": "python",
   "name": "python3"
  },
  "language_info": {
   "codemirror_mode": {
    "name": "ipython",
    "version": 3
   },
   "file_extension": ".py",
   "mimetype": "text/x-python",
   "name": "python",
   "nbconvert_exporter": "python",
   "pygments_lexer": "ipython3",
   "version": "3.12.4"
  }
 },
 "nbformat": 4,
 "nbformat_minor": 5
}
