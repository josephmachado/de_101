{
 "cells": [
  {
   "cell_type": "markdown",
   "id": "706bda97-2b18-4a20-b96b-c75a3411b66e",
   "metadata": {},
   "source": [
    "# Ensure that your code works on any system with Docker\n",
    "\n",
    "We use docker to run our code inside containers. The benefit to this approach is that tour code will work similarly in any OS. Containerization also makes it easy to deploy to cloud systems (or any system that can run containers)"
   ]
  },
  {
   "cell_type": "code",
   "execution_count": null,
   "id": "57d6678e-6670-4b24-b37f-232c01ab7136",
   "metadata": {},
   "outputs": [],
   "source": [
    "%%capture\n",
    "! docker build -t dbt-image ."
   ]
  },
  {
   "cell_type": "code",
   "execution_count": null,
   "id": "faef23cb-d84b-4a53-bced-a67f209a551b",
   "metadata": {},
   "outputs": [],
   "source": [
    "! rm -rf ./tpch_warehouse/models/*/.ipynb_checkpoints # always run before dbt run, caused by notebooks, no need to do this if performed via terminal"
   ]
  },
  {
   "cell_type": "code",
   "execution_count": null,
   "id": "bc6e2c16-f281-40eb-ac6f-d425fbd86cf5",
   "metadata": {},
   "outputs": [],
   "source": [
    "! docker run --name dbt-container --rm -v $(pwd)/tpch_warehouse:/dbt dbt-image dbt debug"
   ]
  },
  {
   "cell_type": "code",
   "execution_count": null,
   "id": "65b46a00-00ee-4cc2-bba7-007e44c472e0",
   "metadata": {},
   "outputs": [],
   "source": [
    "! docker run --name dbt-container --rm -v $(pwd)/tpch_warehouse:/dbt dbt-image dbt run"
   ]
  },
  {
   "cell_type": "code",
   "execution_count": null,
   "id": "3b703ef5-e891-41be-953b-b5bc8c244498",
   "metadata": {},
   "outputs": [],
   "source": [
    "! docker run --name dbt-container  --rm -v $(pwd)/tpch_warehouse:/dbt dbt-image dbt test"
   ]
  },
  {
   "cell_type": "code",
   "execution_count": null,
   "id": "0b29db9e-388c-4029-8194-cdce65da47d2",
   "metadata": {},
   "outputs": [],
   "source": [
    "! docker run --name dbt-container  --rm -v $(pwd)/tpch_warehouse:/dbt dbt-image dbt docs generate"
   ]
  },
  {
   "cell_type": "code",
   "execution_count": null,
   "id": "579e3a8a-5c11-4b1d-b84d-4ae218223565",
   "metadata": {
    "scrolled": true
   },
   "outputs": [],
   "source": [
    "! docker run --name dbt-container  --rm -v $(pwd)/tpch_warehouse:/dbt -p 8080:8080 dbt-image dbt docs serve"
   ]
  },
  {
   "cell_type": "code",
   "execution_count": null,
   "id": "1d00d458-b820-4fa7-bf7b-bb9e801bbc06",
   "metadata": {
    "scrolled": true
   },
   "outputs": [],
   "source": [
    "! docker stop dbt-container"
   ]
  },
  {
   "cell_type": "code",
   "execution_count": null,
   "id": "a53a648d-1754-41fc-b1a8-eb5a37dfbbe7",
   "metadata": {},
   "outputs": [],
   "source": [
    "! docker rm dbt-container"
   ]
  },
  {
   "cell_type": "code",
   "execution_count": null,
   "id": "6acbc291-5f47-47b8-ace9-8dda25c28fa3",
   "metadata": {},
   "outputs": [],
   "source": [
    "! docker ps"
   ]
  },
  {
   "cell_type": "code",
   "execution_count": null,
   "id": "28b692f2-ad2b-4022-9ad9-da8f0403ab88",
   "metadata": {},
   "outputs": [],
   "source": [
    "%%capture\n",
    "! docker compose up --build -d"
   ]
  },
  {
   "cell_type": "code",
   "execution_count": null,
   "id": "eef1e83d-5d91-4eb9-adb4-79224d3f75f5",
   "metadata": {},
   "outputs": [],
   "source": [
    "! docker compose run dbt dbt run "
   ]
  },
  {
   "cell_type": "code",
   "execution_count": null,
   "id": "d6a1ae9f-3e69-4988-a368-f61338504b2c",
   "metadata": {},
   "outputs": [],
   "source": [
    "! docker compose run dbt dbt test"
   ]
  },
  {
   "cell_type": "code",
   "execution_count": null,
   "id": "9618c5ae-5d24-4f3d-8c81-b2d395a1735e",
   "metadata": {},
   "outputs": [],
   "source": [
    "! docker compose run dbt dbt docs generate"
   ]
  },
  {
   "cell_type": "code",
   "execution_count": null,
   "id": "eccea1d4-deab-4c89-b10f-35a45f0be78e",
   "metadata": {},
   "outputs": [],
   "source": [
    "! docker compose exec dbt dbt docs serve"
   ]
  },
  {
   "cell_type": "code",
   "execution_count": null,
   "id": "22a676b4-6508-4148-8297-0fb277ae0aa7",
   "metadata": {},
   "outputs": [],
   "source": [
    "%%capture\n",
    "! docker compose down "
   ]
  },
  {
   "cell_type": "code",
   "execution_count": null,
   "id": "51d16872-5026-48f5-bb73-ff090166e203",
   "metadata": {},
   "outputs": [],
   "source": [
    "! docker ps"
   ]
  },
  {
   "cell_type": "markdown",
   "id": "9478febb-0284-40a4-b6e4-3b5175a25e21",
   "metadata": {},
   "source": [
    "## Define the OS you want to run your code on with an Image"
   ]
  },
  {
   "cell_type": "markdown",
   "id": "37095424-0b95-43fa-a26c-c17977c08a45",
   "metadata": {},
   "source": [
    "add: image"
   ]
  },
  {
   "cell_type": "markdown",
   "id": "1ae80bbc-5d39-4f10-8bd7-6302db5f6ab9",
   "metadata": {},
   "source": [
    "An image is a blueprint to create your docker container. You can define the modules to install, variables to set, etc. Let’s consider our example:"
   ]
  },
  {
   "cell_type": "markdown",
   "id": "fb74a151-b4f0-4dfc-a82c-d97b2efafda9",
   "metadata": {},
   "source": [
    "## Containers are where your OS (& code) runs, they are created from Image\n",
    "\n",
    "With a blueprint defined with an image we can use this to create one or more containers. Containers are the actual running OS where your code will be run.\n",
    "\n",
    "Note that we can create multiple containers from the same image."
   ]
  },
  {
   "cell_type": "markdown",
   "id": "c0adb19e-779d-41eb-b3c9-4e9b96702f77",
   "metadata": {},
   "source": [
    "The image files are often named `Dockerfile` \n",
    "\n",
    "The commands in the docker image (usually called Dockerfile ) are run in order. Let’s go over the key commands:\n",
    "\n",
    "    FROM: We need a base operating system on which to set our configurations. We can also use existing Docker images available at the Docker Hub and add our config on top of them. In our example, we use the official Delta Lake Docker image.\n",
    "    COPY: Copy is used to copy files or folders from our local filesystem to the image. The copy command is usually used when building the docker image to copy settings, static files, etc. In our example, we copy over the tpch-dbgen folder, which contains the logic to create tpch data. We also copy over our requirements.txt file and our entrypoint.sh file.\n",
    "    RUN: Run is used to run a command in the shell terminal of your image. It is typically used to install libraries, create folders, etc.\n",
    "    ENV: This command sets the image’s environment variables. In our example, we set Spark environment variables.\n",
    "    ENTRYPOINT: The entrypoint command executes a script when the image starts. In our example, we use a script file (entrypoint.sh) to start spark master and worker nodes depending on the inputs given to the docker cli when starting a container from this image.\n"
   ]
  },
  {
   "cell_type": "markdown",
   "id": "f0949982-d00a-400e-97f9-144e8822960a",
   "metadata": {},
   "source": [
    "### Containers can be always running or only run for the duration of your code\n",
    "\n",
    "Docker containers are by default ephemeral, meaning that they only last for the duration of the process that is running in the container.\n",
    "\n",
    "In case of a webserver this means htat the container will e always on due to the nature of the process (webserver).\n",
    "\n",
    "In our case for running `dbt` commands, our container need only run for the duration of the execution of the command.\n",
    "\n",
    "In certain cases we will want our containers to be running always (e.g. Airflow scheduler, which we will see in the next chapter). \n",
    "\n",
    "We can use the `docker exec` command to run a command in existing containers,\n",
    "docker run starts new containers from images."
   ]
  },
  {
   "cell_type": "markdown",
   "id": "eb725589-6053-44de-b4b3-93743ef6f4d7",
   "metadata": {},
   "source": [
    "## Containers can interact with your local OS\n",
    "\n",
    "When we run containers, we typically want to \n",
    "* sync code changes, ie. when we are developing our IDEs often open the files in your os and thechanges you make here should be reflected inside the copy in the container.\n",
    "* Open port. When running systems that have some UI/port access locally you want to ensure that these ports of the specified containers are open to your local os"
   ]
  },
  {
   "cell_type": "markdown",
   "id": "8d0a42a1-e13d-4aa9-a899-75b3a7c38da1",
   "metadata": {},
   "source": [
    "### Ensure ports are open for your code to interact with other systems\n",
    "\n",
    "In our setup we want to ensure that the docs generated and served by the dbt cli (from inside the container) is accessible from our local os. \n",
    "\n",
    "To do this we keep port 8008 open. This will ensure that when we open http://localhost:8080 on our web browser we can actually see the dbt document UI"
   ]
  },
  {
   "cell_type": "markdown",
   "id": "f32fefd1-bb38-4299-a2cd-7400c5fde43d",
   "metadata": {},
   "source": [
    "### Ensure code/data is synced between your local OS and your container with `volume mounts`\n",
    "\n",
    "Using mounted volumes, we can also ensure that files are synced between the containers and the local operating system. In addition to syncing local files, we can also create docker volumes to sync files between our containers.\n",
    "\n",
    "This is especially critical when we are developing locally, since we would want the changes to our code reflected inside the containers (where our code would actually run).\n",
    "\n",
    "add: volume to share data"
   ]
  },
  {
   "cell_type": "markdown",
   "id": "ce9de536-289e-466d-b25b-ef6140deed15",
   "metadata": {},
   "source": [
    "## Let's run our dbt pipeline with `docker exec`\n",
    "\n"
   ]
  },
  {
   "cell_type": "markdown",
   "id": "037b9a7f-5af3-4e5f-b07e-d7a5cc86829a",
   "metadata": {},
   "source": [
    "## Orchestrate multiple containers with `docker compose`\n",
    "\n",
    "docker cli is simple to use, but when we need to start multiple containers or have containers start in a specific order using a docker compose yml file can greatly simplify our setup\n",
    "\n"
   ]
  },
  {
   "cell_type": "markdown",
   "id": "47b37956-21fd-44d6-babc-22e152dfa5b2",
   "metadata": {},
   "source": [
    "## Start containers with `docker compose up`\n",
    "\n",
    "Docker compose will start all the defined containers in the `docker-compose.yml` file."
   ]
  },
  {
   "cell_type": "markdown",
   "id": "dae6fb91-df95-4df1-ba70-65899a11875c",
   "metadata": {},
   "source": [
    "## Run dbt commands with `docker exec`"
   ]
  }
 ],
 "metadata": {
  "kernelspec": {
   "display_name": "Python 3 (ipykernel)",
   "language": "python",
   "name": "python3"
  },
  "language_info": {
   "codemirror_mode": {
    "name": "ipython",
    "version": 3
   },
   "file_extension": ".py",
   "mimetype": "text/x-python",
   "name": "python",
   "nbconvert_exporter": "python",
   "pygments_lexer": "ipython3",
   "version": "3.12.4"
  }
 },
 "nbformat": 4,
 "nbformat_minor": 5
}
