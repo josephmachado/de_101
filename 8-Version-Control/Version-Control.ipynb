{
 "cells": [
  {
   "cell_type": "markdown",
   "id": "a46b9255-9bf9-4e86-870f-c9b34ccec3f8",
   "metadata": {},
   "source": [
    "# Keep track of every change to your code base with version control\n",
    "\n",
    "`git` is a tool to log and track every change made to a code repository.\n",
    "\n",
    "You can create a git log for your folder by running `git init` in that folder. The folder then becomes your repository.\n",
    "\n",
    "When you run `git init` a folder called `.git` will be created where all your changes will be stored."
   ]
  },
  {
   "cell_type": "markdown",
   "id": "436aa4a3-5ec1-484f-8de7-ba0e545a9b79",
   "metadata": {},
   "source": [
    "# git = a cli to keep track of every change to your code directory"
   ]
  },
  {
   "cell_type": "markdown",
   "id": "7967d60e-c701-4c7c-974b-aab2ecb03ee7",
   "metadata": {},
   "source": [
    "# GitHub = a SAAS to host your code directory\n",
    "\n",
    "When working on a team you want your colleagues to have access to the same code. You do this by having a centralized code store. This is what GitHub (Gitlab/Azure Devops) offers among other features.\n",
    "\n",
    "When you `push` your code to GitHub you ensure that your colleagues can see the code changes that you have made."
   ]
  },
  {
   "cell_type": "markdown",
   "id": "c224f3f3-5631-48fe-a2ef-5dc9a2feeece",
   "metadata": {},
   "source": [
    "# Developer workflow"
   ]
  },
  {
   "cell_type": "markdown",
   "id": "d140b45f-77b6-496f-8710-07dcd8d4ab90",
   "metadata": {},
   "source": [
    "## Environments\n",
    "\n",
    "In real life projects you will often have multiple systems running the code, these are typically\n",
    "\n",
    "1. `local`: This is the version of system running on your machine, where you develop.\n",
    "2. `CI/dev/testing/UAT`: Depending on the company and product, there may be >=1 envs here. Often times after you make a change and after it gets approved by your team mates the code will be pushed to a test env where automated tests (& sometimes manula checks) will be run, upon passing the code will be pushed to prod(aka production).\n",
    "3. `prod`: this is the env that is visible to the end-users. This is the env that runs your pipelines and often times most people will not have access to this env due to security and reliability.\n",
    "\n",
    "local\n",
    "UAT\n",
    "..\n",
    "Prod\n",
    "\n",
    "main -> version of code running in production\n",
    "\n",
    "When developing new features/making changes, you create a branch, develop, test and get reviews on it before merging it into main. The merged code will then be pushed to production (we will see how in the CI/CD chapter)\n"
   ]
  },
  {
   "cell_type": "markdown",
   "id": "0d46d6f2-9cd5-4852-b0de-689d8a08fae6",
   "metadata": {},
   "source": [
    "## Feature branch development\n",
    "\n",
    "There are multiple approaches for making code changes when working on a team. By far the most popular approach is the feature branch workflow. In this approach as a developer working on a new feature you would\n",
    "\n",
    "1. Pull the repo from the central repo store with `git clone`.\n",
    "2. Create a branch (an exact copy) of the `main` branch. A repo can have multiple branches, which are different versions of your repo. The `main` branch is often the version of code run in production. You'd create a branch with the checkout command as `git checkout -b your-branch-name`\n",
    "3. You'd make changes/add new feature to the code\n",
    "4. You'd stage the changed files with `git add your-files`\n",
    "5. Once staged you can \"commit\" the changes with `git commit -m commit-message` (you may need to resolve merge conflicts which arise when the lines of code you change/add are overlapping with some code which has been added to `main` branch since then)\n",
    "6. After committing your changes you can create a `pull request` by pushing you branch to the central git repo with `git push -f origin main`. \n",
    "7. In the central git repo UI (or via GitHub CLI) you can open a pull request for merging your branch with the `main` branch. A pull request is meant for review by your team mates. Most companies have standards for pull requests, such as detailed explanation, having >= 2 reviewers, automated testing when you create a PR, **CI**etc. \n",
    "8. Once you address all the (if any) comments from your colleagues you can merge your changes to the main branch.\n",
    "9. Most companies has automated deployment (**CD** continuous deployment), ie a system to take the new version of main (after your code is merged) and ensuring that this new version is the one run in your prod systems.\n",
    "\n",
    "The staging of files allows you to make small changes to your code and also allows you to revert to the most recent commit.\n",
    "\n",
    "add: image showing feature based development\n",
    "\n",
    "The `git` tool is a big system with multiple features, but the above steps will give you a good basics of using git in real work projects."
   ]
  },
  {
   "cell_type": "markdown",
   "id": "cc61b4c8-2e62-443c-87f7-a989a8eecfcb",
   "metadata": {},
   "source": [
    "clone this repo & delete the git folder"
   ]
  },
  {
   "cell_type": "markdown",
   "id": "2c1f54f0-a799-4bea-a3b9-8a529a98e6b4",
   "metadata": {},
   "source": [
    "Create a GitHub repo and push this to the main branch"
   ]
  },
  {
   "cell_type": "markdown",
   "id": "1849f017-49c4-4823-8401-7baae5d29c8c",
   "metadata": {},
   "source": [
    "Create branch"
   ]
  },
  {
   "cell_type": "markdown",
   "id": "bc63fabe-aa8e-47eb-ba3a-ddd049999233",
   "metadata": {},
   "source": [
    "Make change"
   ]
  },
  {
   "cell_type": "markdown",
   "id": "64e6db6b-d4e5-4812-9ae9-b2f1593caf0a",
   "metadata": {},
   "source": [
    "Put up a PR"
   ]
  },
  {
   "cell_type": "code",
   "execution_count": null,
   "id": "ae17b281-46c2-4e60-b69a-7b142aec5049",
   "metadata": {},
   "outputs": [],
   "source": [
    "Ask colleagues for reviews"
   ]
  },
  {
   "cell_type": "markdown",
   "id": "c369c178-03f9-40d3-b60f-f6750e41f8df",
   "metadata": {},
   "source": [
    "Once all comments are addressed and approved, push change to main branch"
   ]
  },
  {
   "cell_type": "markdown",
   "id": "fdc35244-8e01-4b20-877b-33ebb92d0921",
   "metadata": {},
   "source": [
    "# Creating a GitHub portfolio\n",
    "\n",
    "When starting a project, it’s a good idea to work backward from your end goal. In our case, the main goal is to impress the hiring manager. This can be done by\n",
    "\n",
    "1. Clear architecture diagram\n",
    "2. Screenshot of a dashboard that shows clear insights\n",
    "3. Objective of your data pipeline\n",
    "4. Icons representing the tools used\n",
    "\n",
    "You want to showcase your expertise to the hiring manager, without expecting them to read through your codebase. In the following sections, we will build out a simple dashboard that is populated by near real-time bitcoin exchange data. You can use this as a reference to build your dashboards."
   ]
  },
  {
   "cell_type": "markdown",
   "id": "d5906622-4b2a-4560-ba12-861f64f2e178",
   "metadata": {},
   "source": [
    "- add: architecture\n",
    "- add: metabase dashboard\n"
   ]
  },
  {
   "cell_type": "code",
   "execution_count": null,
   "id": "afff8026-15ba-4f64-a27c-9a030ab9c27d",
   "metadata": {},
   "outputs": [],
   "source": []
  }
 ],
 "metadata": {
  "kernelspec": {
   "display_name": "Python 3 (ipykernel)",
   "language": "python",
   "name": "python3"
  },
  "language_info": {
   "codemirror_mode": {
    "name": "ipython",
    "version": 3
   },
   "file_extension": ".py",
   "mimetype": "text/x-python",
   "name": "python",
   "nbconvert_exporter": "python",
   "pygments_lexer": "ipython3",
   "version": "3.12.4"
  }
 },
 "nbformat": 4,
 "nbformat_minor": 5
}
