{
 "cells": [
  {
   "cell_type": "markdown",
   "id": "5cecd71f-9f02-4c03-9405-59532ecf121f",
   "metadata": {},
   "source": [
    "# Scheduler = service to start pipeline at specified times"
   ]
  },
  {
   "cell_type": "markdown",
   "id": "3bdad09a-9eb0-4060-96c9-f872c4530d06",
   "metadata": {},
   "source": [
    "# Orchestrator = System to ensure tasks in a data pipeline are run in the correct order "
   ]
  },
  {
   "cell_type": "markdown",
   "id": "0f3dd477-46ef-4563-951e-7d0fe592ffbf",
   "metadata": {},
   "source": [
    "# Airflow is both a scheduler and an orchestrator"
   ]
  },
  {
   "cell_type": "markdown",
   "id": "5f4907d0-2c47-4006-b805-784632a9eeeb",
   "metadata": {},
   "source": [
    "# Define data pipeline as a DAG"
   ]
  }
 ],
 "metadata": {
  "kernelspec": {
   "display_name": "Python 3 (ipykernel)",
   "language": "python",
   "name": "python3"
  },
  "language_info": {
   "codemirror_mode": {
    "name": "ipython",
    "version": 3
   },
   "file_extension": ".py",
   "mimetype": "text/x-python",
   "name": "python",
   "nbconvert_exporter": "python",
   "pygments_lexer": "ipython3",
   "version": "3.12.4"
  }
 },
 "nbformat": 4,
 "nbformat_minor": 5
}
