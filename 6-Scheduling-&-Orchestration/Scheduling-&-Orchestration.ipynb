{
 "cells": [
  {
   "cell_type": "markdown",
   "id": "5cecd71f-9f02-4c03-9405-59532ecf121f",
   "metadata": {},
   "source": [
    "# Scheduler = service to start pipeline at specified times"
   ]
  },
  {
   "cell_type": "markdown",
   "id": "3bdad09a-9eb0-4060-96c9-f872c4530d06",
   "metadata": {},
   "source": [
    "# Orchestrator = System to ensure tasks in a data pipeline are run in the correct order "
   ]
  },
  {
   "cell_type": "markdown",
   "id": "0f3dd477-46ef-4563-951e-7d0fe592ffbf",
   "metadata": {},
   "source": [
    "# Airflow is both a scheduler and an orchestrator"
   ]
  },
  {
   "cell_type": "markdown",
   "id": "5f4907d0-2c47-4006-b805-784632a9eeeb",
   "metadata": {},
   "source": [
    "# Define data pipeline as a DAG"
   ]
  },
  {
   "cell_type": "code",
   "execution_count": 1,
   "id": "05d1b2f0-b7d9-4d1b-981c-a69f8a6c4670",
   "metadata": {},
   "outputs": [],
   "source": [
    "%%capture\n",
    "! docker compose down"
   ]
  },
  {
   "cell_type": "code",
   "execution_count": 2,
   "id": "01843f37-cfc7-4803-b6f6-ccb46b85e497",
   "metadata": {},
   "outputs": [
    {
     "name": "stdout",
     "output_type": "stream",
     "text": [
      "CONTAINER ID   IMAGE     COMMAND   CREATED   STATUS    PORTS     NAMES\n"
     ]
    }
   ],
   "source": [
    "! docker ps"
   ]
  },
  {
   "cell_type": "code",
   "execution_count": 3,
   "id": "917336a9-4b79-4210-883e-85a27e47ea71",
   "metadata": {},
   "outputs": [],
   "source": [
    "# do this in a terminal in this directory\n",
    "# sudo mkdir -p logs plugins temp dags tests data visualization && sudo chmod -R u=rwx,g=rwx,o=rwx logs plugins temp dags tests data visualization"
   ]
  },
  {
   "cell_type": "code",
   "execution_count": 10,
   "id": "058454f0-7971-4b74-95f2-2a721e66494e",
   "metadata": {},
   "outputs": [],
   "source": [
    "%%capture\n",
    "! docker compose up --build -d"
   ]
  },
  {
   "cell_type": "code",
   "execution_count": 11,
   "id": "30780e1d-193d-4fc1-9397-e5687bda4c00",
   "metadata": {},
   "outputs": [],
   "source": [
    "! sleep 30"
   ]
  },
  {
   "cell_type": "code",
   "execution_count": 12,
   "id": "733e409b-f9c4-4a83-8281-8606c0a385a9",
   "metadata": {},
   "outputs": [
    {
     "name": "stdout",
     "output_type": "stream",
     "text": [
      "zsh:1: no matches found: ./dags/tpch_warehouse/models/*/.ipynb_checkpoints\n"
     ]
    }
   ],
   "source": [
    "! rm -rf ./dags/tpch_warehouse/models/*/.ipynb_checkpoints # always run before dbt run, caused by notebooks, no need to do this if performed via terminal"
   ]
  },
  {
   "cell_type": "code",
   "execution_count": 13,
   "id": "99c764a5-224f-4f1d-aefa-c1ba6c25fafa",
   "metadata": {},
   "outputs": [
    {
     "name": "stdout",
     "output_type": "stream",
     "text": [
      "CONTAINER ID   IMAGE                                           COMMAND                  CREATED          STATUS                    PORTS                                       NAMES\n",
      "96e73ce0515e   metabase/metabase                               \"/app/run_metabase.sh\"   33 seconds ago   Up 31 seconds             0.0.0.0:3000->3000/tcp, :::3000->3000/tcp   dashboard\n",
      "dd6ea004cf36   6-scheduling--orchestration-airflow-webserver   \"/usr/bin/dumb-init …\"   52 minutes ago   Up 51 minutes (healthy)   0.0.0.0:8080->8080/tcp, :::8080->8080/tcp   webserver\n",
      "3b5d361b77a5   6-scheduling--orchestration-airflow-scheduler   \"/usr/bin/dumb-init …\"   52 minutes ago   Up 52 minutes (healthy)   8080/tcp                                    scheduler\n",
      "827ce29a3da1   postgres:16                                     \"docker-entrypoint.s…\"   52 minutes ago   Up 52 minutes (healthy)   0.0.0.0:5432->5432/tcp, :::5432->5432/tcp   postgres\n"
     ]
    }
   ],
   "source": [
    "! docker ps"
   ]
  },
  {
   "cell_type": "code",
   "execution_count": null,
   "id": "7df815d7-fab6-4ce4-98a3-c03230a3be66",
   "metadata": {},
   "outputs": [],
   "source": [
    "%%capture\n",
    "! docker compose down"
   ]
  },
  {
   "cell_type": "code",
   "execution_count": null,
   "id": "30cb6691-81c2-4d2c-b0c4-2ce84e8d1fd3",
   "metadata": {},
   "outputs": [],
   "source": []
  }
 ],
 "metadata": {
  "kernelspec": {
   "display_name": "Python 3 (ipykernel)",
   "language": "python",
   "name": "python3"
  },
  "language_info": {
   "codemirror_mode": {
    "name": "ipython",
    "version": 3
   },
   "file_extension": ".py",
   "mimetype": "text/x-python",
   "name": "python",
   "nbconvert_exporter": "python",
   "pygments_lexer": "ipython3",
   "version": "3.12.4"
  }
 },
 "nbformat": 4,
 "nbformat_minor": 5
}
