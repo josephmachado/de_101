{
 "cells": [
  {
   "cell_type": "markdown",
   "id": "23804e82-0f93-4010-a457-98d3e1c921fc",
   "metadata": {},
   "source": [
    "# SQL is the bread and butter of data engineering"
   ]
  },
  {
   "cell_type": "markdown",
   "id": "2f797cae-5d06-47b6-bd0b-a754964c749b",
   "metadata": {},
   "source": [
    "## [SETUP]"
   ]
  },
  {
   "cell_type": "code",
   "execution_count": null,
   "id": "6116adf6-0cfe-446a-8ae1-1ead6f25941f",
   "metadata": {},
   "outputs": [],
   "source": [
    "! python ../setup.py"
   ]
  },
  {
   "cell_type": "markdown",
   "id": "dc0d89b6-fcd9-42bc-bccf-c030f764c63c",
   "metadata": {},
   "source": [
    "### Connect to DuckDB"
   ]
  },
  {
   "cell_type": "code",
   "execution_count": null,
   "id": "bcce262e-d57a-4f95-bbba-d682c4a3f2cd",
   "metadata": {},
   "outputs": [],
   "source": [
    "import duckdb\n",
    "import pandas as pd\n",
    "\n",
    "%load_ext sql\n",
    "conn = duckdb.connect(\"tpch.db\")\n",
    "%sql conn --alias duckdb"
   ]
  },
  {
   "cell_type": "code",
   "execution_count": null,
   "id": "99080452-e6b8-4a50-9883-60bd74a1e815",
   "metadata": {},
   "outputs": [],
   "source": [
    "%%sql\n",
    "show tables;"
   ]
  },
  {
   "cell_type": "code",
   "execution_count": null,
   "id": "cfd5118b-8271-4a16-9e09-3adeab689eb6",
   "metadata": {},
   "outputs": [],
   "source": []
  }
 ],
 "metadata": {
  "kernelspec": {
   "display_name": "Python 3 (ipykernel)",
   "language": "python",
   "name": "python3"
  },
  "language_info": {
   "codemirror_mode": {
    "name": "ipython",
    "version": 3
   },
   "file_extension": ".py",
   "mimetype": "text/x-python",
   "name": "python",
   "nbconvert_exporter": "python",
   "pygments_lexer": "ipython3",
   "version": "3.12.4"
  }
 },
 "nbformat": 4,
 "nbformat_minor": 5
}
