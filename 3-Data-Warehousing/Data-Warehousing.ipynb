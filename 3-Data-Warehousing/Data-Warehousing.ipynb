{
 "cells": [
  {
   "cell_type": "markdown",
   "id": "2731690e-7a71-4575-88ba-199632d0f8f4",
   "metadata": {},
   "source": [
    "# The objective of a data warehouse is to enable analyzing historical data"
   ]
  },
  {
   "cell_type": "markdown",
   "id": "f4967f99-71f1-4b49-88bb-7717a1fad4f2",
   "metadata": {},
   "source": [
    "## Understanding how your business works is critical"
   ]
  },
  {
   "cell_type": "markdown",
   "id": "2194a7ef-20e3-4af3-b5aa-22529f15923b",
   "metadata": {},
   "source": [
    "## Data modeling refers to how your data is stored for historical analytics"
   ]
  },
  {
   "cell_type": "markdown",
   "id": "52c02712-5c18-49b8-bef3-a4130836f6eb",
   "metadata": {},
   "source": [
    "### Kimball dimensional modeling is by far the most popular among all options"
   ]
  },
  {
   "cell_type": "markdown",
   "id": "5ce1e077-c1cc-4476-b339-de2fbe09fcc5",
   "metadata": {},
   "source": [
    "### Real life events are called facts"
   ]
  },
  {
   "cell_type": "markdown",
   "id": "71b28366-6e54-43fa-9736-f6d7235bf698",
   "metadata": {},
   "source": [
    "### Dimension = Someone/something that interacts with your business"
   ]
  },
  {
   "cell_type": "markdown",
   "id": "51b08643-ab45-4a41-b306-1dc22c8a4fd7",
   "metadata": {},
   "source": [
    "## Most tech companies follow the 3-hop architecture"
   ]
  },
  {
   "cell_type": "markdown",
   "id": "b3341a6a-eee1-49c4-b2d4-e2e7ef4b9a22",
   "metadata": {},
   "source": [
    "### Bronze: Extract raw data and confine it to standard names and data types"
   ]
  },
  {
   "cell_type": "markdown",
   "id": "f9f6506f-e10e-4a70-b0d6-13bea8e45666",
   "metadata": {},
   "source": [
    "### Silver: Model data for analytics"
   ]
  },
  {
   "cell_type": "markdown",
   "id": "66222144-7915-462c-9596-1cf800437e7f",
   "metadata": {},
   "source": [
    "### Gold: Create tables for end-users"
   ]
  }
 ],
 "metadata": {
  "kernelspec": {
   "display_name": "Python 3 (ipykernel)",
   "language": "python",
   "name": "python3"
  },
  "language_info": {
   "codemirror_mode": {
    "name": "ipython",
    "version": 3
   },
   "file_extension": ".py",
   "mimetype": "text/x-python",
   "name": "python",
   "nbconvert_exporter": "python",
   "pygments_lexer": "ipython3",
   "version": "3.12.4"
  }
 },
 "nbformat": 4,
 "nbformat_minor": 5
}
