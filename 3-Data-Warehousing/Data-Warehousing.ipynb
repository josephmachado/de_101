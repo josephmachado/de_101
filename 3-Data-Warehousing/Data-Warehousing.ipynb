{
 "cells": [
  {
   "cell_type": "markdown",
   "id": "2731690e-7a71-4575-88ba-199632d0f8f4",
   "metadata": {},
   "source": [
    "# The objective of a data warehouse is to enable analyzing historical data"
   ]
  },
  {
   "cell_type": "code",
   "execution_count": null,
   "id": "57846924-97ff-4a8a-9966-e6187e443dfa",
   "metadata": {},
   "outputs": [],
   "source": [
    "! python ../setup.py -db_file tpch.db"
   ]
  },
  {
   "cell_type": "code",
   "execution_count": null,
   "id": "748b1482-fac3-4521-b4f7-b185b599c5d7",
   "metadata": {},
   "outputs": [],
   "source": [
    "import duckdb\n",
    "import pandas as pd\n",
    "\n",
    "%load_ext sql\n",
    "conn = duckdb.connect(\"tpch.db\")\n",
    "%sql conn --alias duckdb"
   ]
  },
  {
   "cell_type": "code",
   "execution_count": null,
   "id": "bf36968c-dd61-4b75-9409-b12ad8d7778d",
   "metadata": {},
   "outputs": [],
   "source": [
    "%%sql\n",
    "show tables;"
   ]
  },
  {
   "cell_type": "markdown",
   "id": "f4967f99-71f1-4b49-88bb-7717a1fad4f2",
   "metadata": {},
   "source": [
    "## Understanding how your business works is critical"
   ]
  },
  {
   "cell_type": "markdown",
   "id": "9bc91cec-9124-4219-90c8-ce5c4493391b",
   "metadata": {},
   "source": [
    "- data flow from product/upstream team\n",
    "- create a conceptual data flow diagram\n",
    "- Use tpch as example"
   ]
  },
  {
   "cell_type": "markdown",
   "id": "2194a7ef-20e3-4af3-b5aa-22529f15923b",
   "metadata": {},
   "source": [
    "## Data modeling refers to how your data is stored for historical analytics"
   ]
  },
  {
   "cell_type": "markdown",
   "id": "3b3fa706-6fae-47a1-97b7-82fc890fe6a2",
   "metadata": {},
   "source": [
    "\n",
    "The term analytical querying usually refers to aggregating numerical (spend, count, sum, avg) data from the fact table for specific dimension attribute(s) (e.g., name, nation, date, month) from the dimension tables. Some examples of analytical queries are \n",
    "\n",
    "1. Who are the top 10 suppliers (by totalprice) in the past year?\n",
    "\n",
    "2. What are the average sales per nation per year?\n",
    "\n",
    "3. How do customer market segments perform (sales) month-over-month?\n",
    "\n",
    "The questions above ask about **historically aggregating data from the fact tables for one or more business entities(dimensions)**. \n",
    "Consider the example analytical question below and notice the facts and dimensions.\n",
    "\n",
    "![Analytical query](./images/im_2.png)\n",
    "add: images\n",
    "\n",
    "When we dissect the above analytical query, we see that it involves:\n",
    "\n",
    "1. Joining the fact data with dimension table(s) to get the dimension attributes such as name, region, & brand. In our example, we join the orders fact table with the customer dimension table.\n",
    "\n",
    "2. **Modifying granularity** (aka rollup, Group by) of the joined table to the dimension(s) in question. In our example, this refers to `GROUP BY custkey, YEAR(orderdate).`\n",
    "\n"
   ]
  },
  {
   "cell_type": "markdown",
   "id": "52c02712-5c18-49b8-bef3-a4130836f6eb",
   "metadata": {},
   "source": [
    "### Kimball dimensional modeling is by far the most popular among all options"
   ]
  },
  {
   "cell_type": "markdown",
   "id": "5ce1e077-c1cc-4476-b339-de2fbe09fcc5",
   "metadata": {},
   "source": [
    "### Real life events are called facts"
   ]
  },
  {
   "cell_type": "markdown",
   "id": "ffca1e9b-fed7-44ba-abee-79a453ac17c6",
   "metadata": {},
   "source": [
    " **Facts**: Each row in a fact table represents a business process that occurred. E.g., In our data warehouse, each row in the `orders` fact table will represent an individual order, and each row in the `lineitem` fact table will represent an item sold as part of an order. Each fact row will have a unique identifier; in our case, it's `orderkey` for orders and a combination of `orderkey & linenumber` for lineitem.\n"
   ]
  },
  {
   "cell_type": "markdown",
   "id": "d2813bf7-0ba1-471f-9851-eca328666791",
   "metadata": {},
   "source": [
    "A fact table's **grain (aka granularity, level)** refers to what a row in a fact table represents. For example, in our checkout process, we can have two fact tables, one for the order and another for the individual items in the order. The items table will have one row per item purchased, whereas the order table will have one row per order made.\n"
   ]
  },
  {
   "cell_type": "code",
   "execution_count": null,
   "id": "f5406ab1-e6df-4a4b-89f4-5d6017648f60",
   "metadata": {},
   "outputs": [],
   "source": [
    "%%sql\n",
    "\n",
    "-- calculating the totalprice of an order (with orderkey = 1) from it's individual items\n",
    "SELECT\n",
    "    l_orderkey,\n",
    "    round( sum(l_extendedprice * (1 - l_discount) * (1 + l_tax)),\n",
    "        2\n",
    "    ) AS totalprice\n",
    "    -- Formula to calculate price paid after discount & tax\n",
    "FROM\n",
    "    lineitem\n",
    "WHERE\n",
    "    l_orderkey = 1\n",
    "GROUP BY\n",
    "    l_orderkey;\n",
    "\n",
    "/*\n",
    " orderkey | totalprice\n",
    "----------+------------\n",
    "        1 |  172799.56\n",
    "*/\n"
   ]
  },
  {
   "cell_type": "code",
   "execution_count": null,
   "id": "29c90fef-4cef-41ad-952b-e31fe6e85359",
   "metadata": {},
   "outputs": [],
   "source": [
    "%%sql\n",
    "-- The totalprice of an order (with orderkey = 1)\n",
    "SELECT\n",
    "    o_orderkey,\n",
    "    o_totalprice\n",
    "FROM\n",
    "    orders\n",
    "WHERE\n",
    "    o_orderkey = 1;"
   ]
  },
  {
   "cell_type": "markdown",
   "id": "71b28366-6e54-43fa-9736-f6d7235bf698",
   "metadata": {},
   "source": [
    "### Dimension = Someone/something that interacts with your business"
   ]
  },
  {
   "cell_type": "markdown",
   "id": "4b5a05fa-e810-4fdb-bd58-559f436d2741",
   "metadata": {},
   "source": [
    " **Dimension**: Each row in a dimension table represents a business entity that is important to the business. For example, A car parts seller's data warehouse will have a `customer` dimension table, where each row will represent an individual customer. Other examples of dimension tables in a car parts seller's data warehouse would be `supplier` & `part` tables. Techniques such as [SCD2](https://www.startdataengineering.com/post/how-to-join-fact-scd2-tables/#what-is-an-scd2-table-and-why-use-it) are used to store data whose values can change over time (e.g., customers address).\n"
   ]
  },
  {
   "cell_type": "code",
   "execution_count": null,
   "id": "8a827a13-503c-4587-837a-f2346e9bb776",
   "metadata": {},
   "outputs": [],
   "source": [
    "%%sql\n",
    "select * from customer limit 5;"
   ]
  },
  {
   "cell_type": "code",
   "execution_count": null,
   "id": "06f4b023-6501-4e7a-b9c1-b79942d6a202",
   "metadata": {},
   "outputs": [],
   "source": [
    "%%sql\n",
    "select * from supplier limit 2;"
   ]
  },
  {
   "cell_type": "markdown",
   "id": "51b08643-ab45-4a41-b306-1dc22c8a4fd7",
   "metadata": {},
   "source": [
    "## Most tech companies follow the 3-hop architecture"
   ]
  },
  {
   "cell_type": "markdown",
   "id": "2c05353e-e2a6-4766-81db-144b2d0bc2cc",
   "metadata": {},
   "source": [
    "Most data teams have their version of the 3-hop architecture. For example, dbt has its own version (stage, intermediate, mart), and Spark has medallion (bronze, silver, gold) architecture.\n",
    "\n",
    "You may be wondering why we need this data flow architecture when we have the results easily with a simple query shown here.\n",
    "\n",
    "While this is a simple example, in most real-world projects you want to have a standard, cleaned and modelled dataset(bronze) that can be use to create specialized dataset for end-users(gold). See below for how our data will flow:\n",
    "                                                                                                                                                                         add: data 3-hop arch image                              "
   ]
  },
  {
   "cell_type": "markdown",
   "id": "b3341a6a-eee1-49c4-b2d4-e2e7ef4b9a22",
   "metadata": {},
   "source": [
    "### Bronze: Extract raw data and confine it to standard names and data types"
   ]
  },
  {
   "cell_type": "markdown",
   "id": "e88a7ddb-1891-4ea8-82f4-23fb26207c02",
   "metadata": {},
   "source": [
    "Since our dataset has data from customer, nation, region, order, and lineitem input datasets, we will bring those data into bronze tables. We will keep their names the same as the input datasets.\n",
    "\n",
    "Let's explore the input datasets and create our bronze datasets."
   ]
  },
  {
   "cell_type": "code",
   "execution_count": null,
   "id": "37895a6d-e0be-43d9-b5b0-1c71088bb76e",
   "metadata": {},
   "outputs": [],
   "source": [
    "%%sql\n",
    "DROP SCHEMA IF EXISTS bronze CASCADE;\n",
    "CREATE SCHEMA IF NOT EXISTS bronze;"
   ]
  },
  {
   "cell_type": "code",
   "execution_count": null,
   "id": "245e3310-b7ee-42b1-b461-f95ae0b32a41",
   "metadata": {},
   "outputs": [],
   "source": [
    "%%sql\n",
    "-- Remove 'c_' prefix and rename 'custkey' to 'customer_key'\n",
    "DROP TABLE IF EXISTS bronze.customer;\n",
    "CREATE TABLE bronze.customer AS \n",
    "SELECT \n",
    "    c_custkey AS customer_key,\n",
    "    c_name AS name,\n",
    "    c_address AS address,\n",
    "    c_nationkey AS nationkey,\n",
    "    c_phone AS phone,\n",
    "    c_acctbal AS acctbal,\n",
    "    c_mktsegment AS mktsegment,\n",
    "    c_comment AS comment\n",
    "FROM customer;\n"
   ]
  },
  {
   "cell_type": "code",
   "execution_count": null,
   "id": "a9ac3de8-1b47-4c7b-964b-f2147ae2e4af",
   "metadata": {},
   "outputs": [],
   "source": [
    "%%sql\n",
    "\n",
    "DROP TABLE IF EXISTS bronze.nation;\n",
    "CREATE TABLE bronze.nation AS \n",
    "SELECT \n",
    "    n_nationkey AS nationkey,\n",
    "    n_name AS name,\n",
    "    n_regionkey AS regionkey,\n",
    "    n_comment AS comment\n",
    "FROM nation;\n",
    "\n",
    "-- Region Table\n",
    "DROP TABLE IF EXISTS bronze.region;\n",
    "CREATE TABLE bronze.region AS \n",
    "SELECT \n",
    "    r_regionkey AS regionkey,\n",
    "    r_name AS name,\n",
    "    r_comment AS comment\n",
    "FROM region;\n",
    "\n",
    "-- Orders Table\n",
    "DROP TABLE IF EXISTS bronze.orders;\n",
    "CREATE TABLE bronze.orders AS \n",
    "SELECT \n",
    "    o_orderkey AS orderkey,\n",
    "    o_custkey AS custkey,\n",
    "    o_orderstatus AS orderstatus,\n",
    "    o_totalprice AS totalprice,\n",
    "    o_orderdate AS orderdate,\n",
    "    o_orderpriority AS orderpriority,\n",
    "    o_clerk AS clerk,\n",
    "    o_shippriority AS shippriority,\n",
    "    o_comment AS comment\n",
    "FROM orders;\n",
    "\n",
    "-- Lineitem Table\n",
    "DROP TABLE IF EXISTS bronze.lineitem;\n",
    "CREATE TABLE bronze.lineitem AS \n",
    "SELECT \n",
    "    l_orderkey AS orderkey,\n",
    "    l_partkey AS partkey,\n",
    "    l_suppkey AS suppkey,\n",
    "    l_linenumber AS linenumber,\n",
    "    l_quantity AS quantity,\n",
    "    l_extendedprice AS extendedprice,\n",
    "    l_discount AS discount,\n",
    "    l_tax AS tax,\n",
    "    l_returnflag AS returnflag,\n",
    "    l_linestatus AS linestatus,\n",
    "    l_shipdate AS shipdate,\n",
    "    l_commitdate AS commitdate,\n",
    "    l_receiptdate AS receiptdate,\n",
    "    l_shipinstruct AS shipinstruct,\n",
    "    l_shipmode AS shipmode,\n",
    "    l_comment AS comment\n",
    "FROM lineitem;"
   ]
  },
  {
   "cell_type": "markdown",
   "id": "f9f6506f-e10e-4a70-b0d6-13bea8e45666",
   "metadata": {},
   "source": [
    "### Silver: Model data for analytics"
   ]
  },
  {
   "cell_type": "markdown",
   "id": "b4e20fff-5963-424c-8aad-0917e08f9b21",
   "metadata": {},
   "source": [
    "In the silver layer, the datasets are modeled using one of the popular styles (e.g., Kimball, Data Vault, etc.). We will use Kimball's dimensional model, as it is the most commonly used one and can account for many use cases.\n",
    "\n",
    "**Data modeling**\n",
    "\n",
    "We will create the following datasets\n",
    "\n",
    "1. **dim_customer**: A customer level table with all the necessary attributes of a customer. We will join nation and region data to the cleaned_customer_df to get all the attributes associated with a customer.\n",
    "2. **fct_orders**: An order level fact(an event that happened) table. This will be the same as cleaned_orders_df since the orders table has all the necessary details about the order and how it associates with dimension tables like customer_key.\n",
    "3. **fct_lineitem**: A lineitem (items that are part of an order) fact table. This table will be the same as cleaned_lineitem_df since the lineitem table has all the lineitem level details and keys to associate with dimension tables like partkey and suppkey.\n"
   ]
  },
  {
   "cell_type": "code",
   "execution_count": null,
   "id": "c0119983-fa6d-4c76-bdda-a5e513e379bd",
   "metadata": {},
   "outputs": [],
   "source": [
    "%%sql\n",
    "-- Create Customer Dimension Table by Left-Joining Nation and Region Data\n",
    "DROP TABLE IF EXISTS dim_customer;\n",
    "CREATE TABLE dim_customer AS\n",
    "SELECT \n",
    "    c.customer_key,\n",
    "    c.name AS customer_name,\n",
    "    c.address,\n",
    "    c.phone,\n",
    "    c.acctbal,\n",
    "    c.mktsegment,\n",
    "    n.name AS nation_name,\n",
    "    n.comment AS nation_comment,\n",
    "    r.name AS region_name,\n",
    "    r.comment AS region_comment\n",
    "FROM bronze.customer AS c\n",
    "LEFT JOIN bronze.nation AS n ON c.nationkey = n.nationkey\n",
    "LEFT JOIN bronze.region AS r ON n.regionkey = r.regionkey;\n"
   ]
  },
  {
   "cell_type": "code",
   "execution_count": null,
   "id": "835214f2-f827-4e9a-8ad1-e38b5d22f47e",
   "metadata": {},
   "outputs": [],
   "source": [
    "%%sql\n",
    "-- Fact Orders Table (Direct Data from the App)\n",
    "DROP TABLE IF EXISTS fct_orders;\n",
    "CREATE TABLE fct_orders AS\n",
    "SELECT \n",
    "    o.orderkey,\n",
    "    o.custkey,\n",
    "    o.orderstatus,\n",
    "    o.totalprice,\n",
    "    o.orderdate,\n",
    "    o.orderpriority,\n",
    "    o.clerk,\n",
    "    o.shippriority,\n",
    "    o.comment\n",
    "FROM bronze.orders AS o;\n",
    "\n",
    "-- Fact LineItem Table (Direct Data from the App)\n",
    "DROP TABLE IF EXISTS fct_lineitem;\n",
    "CREATE TABLE fct_lineitem AS\n",
    "SELECT \n",
    "    l.orderkey,\n",
    "    l.partkey,\n",
    "    l.suppkey,\n",
    "    l.linenumber,\n",
    "    l.quantity,\n",
    "    l.extendedprice,\n",
    "    l.discount,\n",
    "    l.tax,\n",
    "    l.returnflag,\n",
    "    l.linestatus,\n",
    "    l.shipdate,\n",
    "    l.commitdate,\n",
    "    l.receiptdate,\n",
    "    l.shipinstruct,\n",
    "    l.shipmode,\n",
    "    l.comment\n",
    "FROM bronze.lineitem AS l;"
   ]
  },
  {
   "cell_type": "markdown",
   "id": "66222144-7915-462c-9596-1cf800437e7f",
   "metadata": {},
   "source": [
    "### Gold: Create tables for end-users"
   ]
  },
  {
   "cell_type": "markdown",
   "id": "d1d7fa08-7b1e-47dd-aae6-2e52dc1111e3",
   "metadata": {},
   "source": [
    "The gold layer contains datasets required for the end user. The user-required datasets are fact tables joined with dimension tables aggregated to the necessary grain. In real-world projects, multiple teams/users ask for datasets with differing grains from the same underlying fact and dimension tables. While you can join the necessary tables and aggregate them individually for each ask, it leads to repeated code and joins.\n",
    "\n",
    "To avoid this issue, companies typically do the following:\n",
    "\n",
    "1. **OBT**: This is a fact table with multiple dimension tables left joined with it.\n",
    "2. **pre-aggregated table**: The OBT table rolled up to the end user/team requested grain. The pre-aggregated dataset will be the dataset that the end user accesses. By providing the end user with the exact columns they need, we can ensure that all the metrics are in one place and issues due to incorrect metric calculations by end users are significantly reduced. These tables act as our end-users SOT (source of truth).\n",
    "\n",
    "#### OBT: Join the fact table with all its dimensions\n",
    "\n",
    "In our example, we have two fact tables, fct_orders and fct_lineitem. Since we only have one dimension, dim_customer, we can join fct_orders and dim_customer to create wide_orders. For our use case, we can keep fct_lineitem as wide_lineitem.\n",
    "\n",
    "That said, we can easily see a case where we might need to join parts and supplier data with fct_lineitem to get wide_lineitem. But since our use case doesn't require this, we can skip it!\n",
    "\n",
    "Let's create our OBT tables\n"
   ]
  },
  {
   "cell_type": "code",
   "execution_count": null,
   "id": "73d4db23-0246-4f71-b13d-c7120edc5671",
   "metadata": {},
   "outputs": [],
   "source": [
    "%%sql\n",
    "-- order level OBT wide_orders\n",
    "DROP TABLE IF EXISTS wide_orders;\n",
    "CREATE TABLE wide_orders AS\n",
    "SELECT o.*,\n",
    "    c.*\n",
    "FROM fct_orders o\n",
    "LEFT JOIN dim_customer c \n",
    "ON o.custkey = c.customer_key;\n",
    "\n",
    "-- lineitem level OBT wide_lineitem\n",
    "-- For our use case, we don't need more information at a lineitem level\n",
    "DROP TABLE IF EXISTS wide_lineitem;\n",
    "CREATE TABLE wide_lineitem AS\n",
    "SELECT * FROM fct_lineitem;"
   ]
  },
  {
   "cell_type": "markdown",
   "id": "310cfa47-6e07-49f2-839f-3540052ec7db",
   "metadata": {},
   "source": [
    "#### Pre-aggregated tables: Aggregate OBTs to stakeholder-specific grain\n",
    "\n",
    "According to our data requirements, we need data from customer, orders, and lineitem. Since we already have customer and order data in wide_orders, we can join that with wide_lineitem to get the necessary data.\n",
    "\n",
    "We can call the final dataset customer_outreach_metrics (read this article that discusses the importance of naming).\n",
    "\n",
    "Let's create our final dataset in Python\n"
   ]
  },
  {
   "cell_type": "code",
   "execution_count": null,
   "id": "1fea3821-fb35-4e4a-aa95-54d4eaf75883",
   "metadata": {},
   "outputs": [],
   "source": [
    "%%sql\n",
    "DROP TABLE IF EXISTS order_lineitem_metrics;\n",
    "CREATE TABLE order_lineitem_metrics AS\n",
    "-- Create Order Lineitem Metrics by Counting Lineitems per Order\n",
    "SELECT \n",
    "    orderkey AS order_key,\n",
    "    COUNT(linenumber) AS num_lineitems\n",
    "FROM wide_lineitem\n",
    "GROUP BY orderkey;"
   ]
  },
  {
   "cell_type": "code",
   "execution_count": null,
   "id": "b3b6fb79-b63f-4114-bdb3-b7a52ed59395",
   "metadata": {},
   "outputs": [],
   "source": [
    "%%sql\n",
    "DROP TABLE IF EXISTS customer_outreach_metrics;\n",
    "CREATE TABLE customer_outreach_metrics AS\n",
    "-- Create Wide Orders with Order Lineitem Metrics, Aggregated by Customer\n",
    "SELECT \n",
    "    o.customer_key,\n",
    "    o.customer_name,\n",
    "    MIN(o.totalprice) AS min_order_value,\n",
    "    MAX(o.totalprice) AS max_order_value,\n",
    "    AVG(o.totalprice) AS avg_order_value,\n",
    "    AVG(m.num_lineitems) AS avg_num_items_per_order\n",
    "FROM wide_orders AS o\n",
    "LEFT JOIN (\n",
    "    SELECT \n",
    "        orderkey AS order_key,\n",
    "        COUNT(linenumber) AS num_lineitems\n",
    "    FROM wide_lineitem\n",
    "    GROUP BY orderkey\n",
    ") AS m ON o.orderkey = m.order_key\n",
    "GROUP BY o.customer_key, o.customer_name;"
   ]
  },
  {
   "cell_type": "code",
   "execution_count": null,
   "id": "6c397ed1-cf1a-4142-8363-6a4bb8a9cea5",
   "metadata": {},
   "outputs": [],
   "source": [
    "%%sql\n",
    "select * from customer_outreach_metrics limit 4;"
   ]
  },
  {
   "cell_type": "code",
   "execution_count": null,
   "id": "5b553471-6adc-409c-b25c-031d60da5d94",
   "metadata": {},
   "outputs": [],
   "source": []
  }
 ],
 "metadata": {
  "kernelspec": {
   "display_name": "env",
   "language": "python",
   "name": "env"
  },
  "language_info": {
   "codemirror_mode": {
    "name": "ipython",
    "version": 3
   },
   "file_extension": ".py",
   "mimetype": "text/x-python",
   "name": "python",
   "nbconvert_exporter": "python",
   "pygments_lexer": "ipython3",
   "version": "3.12.4"
  }
 },
 "nbformat": 4,
 "nbformat_minor": 5
}
