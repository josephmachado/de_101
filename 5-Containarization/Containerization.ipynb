{
 "cells": [
  {
   "cell_type": "markdown",
   "id": "706bda97-2b18-4a20-b96b-c75a3411b66e",
   "metadata": {},
   "source": [
    "# Ensure that your code works on any system with Docker"
   ]
  },
  {
   "cell_type": "markdown",
   "id": "9478febb-0284-40a4-b6e4-3b5175a25e21",
   "metadata": {},
   "source": [
    "## Define the OS you want to run your code on with an Image"
   ]
  },
  {
   "cell_type": "markdown",
   "id": "fb74a151-b4f0-4dfc-a82c-d97b2efafda9",
   "metadata": {},
   "source": [
    "## Containers are where your OS (& code) runs, they are created from Image"
   ]
  },
  {
   "cell_type": "markdown",
   "id": "f0949982-d00a-400e-97f9-144e8822960a",
   "metadata": {},
   "source": [
    "### Containers can be always running or only exist for the duration of your code"
   ]
  },
  {
   "cell_type": "markdown",
   "id": "eb725589-6053-44de-b4b3-93743ef6f4d7",
   "metadata": {},
   "source": [
    "## Containers can interact with your local OS"
   ]
  },
  {
   "cell_type": "markdown",
   "id": "8d0a42a1-e13d-4aa9-a899-75b3a7c38da1",
   "metadata": {},
   "source": [
    "### Ensure ports are open for your code to interact with other systems"
   ]
  },
  {
   "cell_type": "markdown",
   "id": "f32fefd1-bb38-4299-a2cd-7400c5fde43d",
   "metadata": {},
   "source": [
    "### Ensure code/data is synced between your local OS and your container with `volume mounts`"
   ]
  },
  {
   "cell_type": "markdown",
   "id": "037b9a7f-5af3-4e5f-b07e-d7a5cc86829a",
   "metadata": {},
   "source": [
    "## Orchestrate multiple containers with `docker compose`"
   ]
  },
  {
   "cell_type": "markdown",
   "id": "ce9de536-289e-466d-b25b-ef6140deed15",
   "metadata": {},
   "source": [
    "## Let's run our dbt pipeline with `docker exec`"
   ]
  }
 ],
 "metadata": {
  "kernelspec": {
   "display_name": "Python 3 (ipykernel)",
   "language": "python",
   "name": "python3"
  },
  "language_info": {
   "codemirror_mode": {
    "name": "ipython",
    "version": 3
   },
   "file_extension": ".py",
   "mimetype": "text/x-python",
   "name": "python",
   "nbconvert_exporter": "python",
   "pygments_lexer": "ipython3",
   "version": "3.12.4"
  }
 },
 "nbformat": 4,
 "nbformat_minor": 5
}
