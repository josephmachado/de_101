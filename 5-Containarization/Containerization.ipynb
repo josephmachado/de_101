{
 "cells": [
  {
   "cell_type": "markdown",
   "id": "706bda97-2b18-4a20-b96b-c75a3411b66e",
   "metadata": {},
   "source": [
    "# Ensure that your code works on any system with Docker"
   ]
  },
  {
   "cell_type": "code",
   "execution_count": null,
   "id": "57d6678e-6670-4b24-b37f-232c01ab7136",
   "metadata": {},
   "outputs": [],
   "source": [
    "%%capture\n",
    "! docker build -t dbt-image ."
   ]
  },
  {
   "cell_type": "code",
   "execution_count": null,
   "id": "d2c4a93b-8147-4eb8-972e-88431134700c",
   "metadata": {},
   "outputs": [],
   "source": [
    "%%capture\n",
    "! docker run -it dbt-image"
   ]
  },
  {
   "cell_type": "code",
   "execution_count": null,
   "id": "b0d59f0d-ac40-4f02-995d-10fba8f5820c",
   "metadata": {},
   "outputs": [],
   "source": [
    "! docker ps"
   ]
  },
  {
   "cell_type": "code",
   "execution_count": null,
   "id": "bc6e2c16-f281-40eb-ac6f-d425fbd86cf5",
   "metadata": {},
   "outputs": [],
   "source": [
    "! docker run -it --rm -v $(pwd)/tpch_warehouse:/dbt dbt-image dbt debug"
   ]
  },
  {
   "cell_type": "code",
   "execution_count": null,
   "id": "65b46a00-00ee-4cc2-bba7-007e44c472e0",
   "metadata": {},
   "outputs": [],
   "source": [
    "! docker run -it --rm -v $(pwd)/tpch_warehouse:/dbt dbt-image dbt run --select models/example"
   ]
  },
  {
   "cell_type": "code",
   "execution_count": null,
   "id": "0b29db9e-388c-4029-8194-cdce65da47d2",
   "metadata": {},
   "outputs": [],
   "source": [
    "! docker run -it --rm -v $(pwd)/tpch_warehouse:/dbt dbt-image dbt docs generate"
   ]
  },
  {
   "cell_type": "code",
   "execution_count": null,
   "id": "579e3a8a-5c11-4b1d-b84d-4ae218223565",
   "metadata": {},
   "outputs": [],
   "source": [
    "! docker run -it --rm -v $(pwd)/tpch_warehouse:/dbt -p 8080:8080 dbt-image dbt docs serve"
   ]
  },
  {
   "cell_type": "code",
   "execution_count": 2,
   "id": "1d00d458-b820-4fa7-bf7b-bb9e801bbc06",
   "metadata": {},
   "outputs": [
    {
     "name": "stdout",
     "output_type": "stream",
     "text": [
      "dbt-image\n"
     ]
    }
   ],
   "source": [
    "! docker stop dbt-image"
   ]
  },
  {
   "cell_type": "code",
   "execution_count": 3,
   "id": "a53a648d-1754-41fc-b1a8-eb5a37dfbbe7",
   "metadata": {},
   "outputs": [
    {
     "name": "stdout",
     "output_type": "stream",
     "text": [
      "dbt-image\n"
     ]
    }
   ],
   "source": [
    "! docker rm dbt-image"
   ]
  },
  {
   "cell_type": "code",
   "execution_count": 4,
   "id": "28b692f2-ad2b-4022-9ad9-da8f0403ab88",
   "metadata": {},
   "outputs": [],
   "source": [
    "%%capture\n",
    "! docker compose up --build -d"
   ]
  },
  {
   "cell_type": "code",
   "execution_count": 5,
   "id": "eef1e83d-5d91-4eb9-adb4-79224d3f75f5",
   "metadata": {},
   "outputs": [
    {
     "name": "stdout",
     "output_type": "stream",
     "text": [
      "\u001b[33mWARN\u001b[0m[0000] /home/josephkevinmachado/code/de_101/5-Containarization/docker-compose.yml: the attribute `version` is obsolete, it will be ignored, please remove it to avoid potential confusion \n",
      "\u001b[33mWARN\u001b[0m[0000] Found orphan containers ([5-containarization-dbt-run-60393ddb6b0a 5-containarization-dbt-run-7fc67c99497b 5-containarization-dbt-run-e62f2794d203 5-containarization-dbt-run-c3ffd47d14b3 5-containarization-dbt-run-656a08c83440 5-containarization-dbt-run-1f5e7fe817dc 5-containarization-dbt-run-d5fb3baf86cf]) for this project. If you removed or renamed this service in your compose file, you can run this command with the --remove-orphans flag to clean it up. \n",
      "\u001b[0m21:12:20  [\u001b[33mWARNING\u001b[0m]: Deprecated functionality\n",
      "\n",
      "User config should be moved from the 'config' key in profiles.yml to the 'flags' key in dbt_project.yml.\n",
      "\u001b[0m21:12:20  Running with dbt=1.8.0\n",
      "\u001b[0m21:12:20  Registered adapter: duckdb=1.8.0\n",
      "\u001b[0m21:12:21  Found 9 models, 10 data tests, 8 sources, 421 macros\n",
      "\u001b[0m21:12:21  \n",
      "\u001b[0m21:12:21  Concurrency: 1 threads (target='dev')\n",
      "\u001b[0m21:12:21  \n",
      "\u001b[0m21:12:21  1 of 4 START sql table model main.my_first_dbt_model ........................... [RUN]\n",
      "\u001b[0m21:12:21  1 of 4 OK created sql table model main.my_first_dbt_model ...................... [\u001b[32mOK\u001b[0m in 0.13s]\n",
      "\u001b[0m21:12:21  2 of 4 START sql table model main.my_first_dbt_model-checkpoint ................ [RUN]\n",
      "\u001b[0m21:12:21  2 of 4 OK created sql table model main.my_first_dbt_model-checkpoint ........... [\u001b[32mOK\u001b[0m in 0.05s]\n",
      "\u001b[0m21:12:21  3 of 4 START sql view model main.my_second_dbt_model ........................... [RUN]\n",
      "\u001b[0m21:12:21  3 of 4 OK created sql view model main.my_second_dbt_model ...................... [\u001b[32mOK\u001b[0m in 0.11s]\n",
      "\u001b[0m21:12:21  4 of 4 START sql view model main.my_second_dbt_model-checkpoint ................ [RUN]\n",
      "\u001b[0m21:12:21  4 of 4 OK created sql view model main.my_second_dbt_model-checkpoint ........... [\u001b[32mOK\u001b[0m in 0.05s]\n",
      "\u001b[0m21:12:21  \n",
      "\u001b[0m21:12:21  Finished running 2 table models, 2 view models in 0 hours 0 minutes and 0.58 seconds (0.58s).\n",
      "\u001b[0m21:12:21  \n",
      "\u001b[0m21:12:21  \u001b[32mCompleted successfully\u001b[0m\n",
      "\u001b[0m21:12:21  \n",
      "\u001b[0m21:12:21  Done. PASS=4 WARN=0 ERROR=0 SKIP=0 TOTAL=4\n"
     ]
    }
   ],
   "source": [
    "! docker compose run dbt dbt run --select models/example"
   ]
  },
  {
   "cell_type": "code",
   "execution_count": 6,
   "id": "9618c5ae-5d24-4f3d-8c81-b2d395a1735e",
   "metadata": {},
   "outputs": [
    {
     "name": "stdout",
     "output_type": "stream",
     "text": [
      "\u001b[33mWARN\u001b[0m[0000] /home/josephkevinmachado/code/de_101/5-Containarization/docker-compose.yml: the attribute `version` is obsolete, it will be ignored, please remove it to avoid potential confusion \n",
      "\u001b[33mWARN\u001b[0m[0000] Found orphan containers ([5-containarization-dbt-run-4b2361655405 5-containarization-dbt-run-60393ddb6b0a 5-containarization-dbt-run-7fc67c99497b 5-containarization-dbt-run-e62f2794d203 5-containarization-dbt-run-c3ffd47d14b3 5-containarization-dbt-run-656a08c83440 5-containarization-dbt-run-1f5e7fe817dc 5-containarization-dbt-run-d5fb3baf86cf]) for this project. If you removed or renamed this service in your compose file, you can run this command with the --remove-orphans flag to clean it up. \n",
      "\u001b[0m21:12:25  [\u001b[33mWARNING\u001b[0m]: Deprecated functionality\n",
      "\n",
      "User config should be moved from the 'config' key in profiles.yml to the 'flags' key in dbt_project.yml.\n",
      "\u001b[0m21:12:25  Running with dbt=1.8.0\n",
      "\u001b[0m21:12:26  Registered adapter: duckdb=1.8.0\n",
      "\u001b[0m21:12:26  Found 9 models, 10 data tests, 8 sources, 421 macros\n",
      "\u001b[0m21:12:26  \n",
      "\u001b[0m21:12:26  Concurrency: 1 threads (target='dev')\n",
      "\u001b[0m21:12:26  \n",
      "\u001b[0m21:12:26  Building catalog\n",
      "\u001b[0m21:12:26  Catalog written to /dbt/target/catalog.json\n"
     ]
    }
   ],
   "source": [
    "! docker compose run dbt dbt docs generate"
   ]
  },
  {
   "cell_type": "code",
   "execution_count": 9,
   "id": "51d16872-5026-48f5-bb73-ff090166e203",
   "metadata": {},
   "outputs": [
    {
     "name": "stdout",
     "output_type": "stream",
     "text": [
      "CONTAINER ID   IMAGE                    COMMAND               CREATED          STATUS          PORTS                                       NAMES\n",
      "daacb85945ca   5-containarization-dbt   \"tail -f /dev/null\"   35 seconds ago   Up 35 seconds   0.0.0.0:8080->8080/tcp, :::8080->8080/tcp   dbt-image\n"
     ]
    }
   ],
   "source": [
    "! docker ps"
   ]
  },
  {
   "cell_type": "code",
   "execution_count": 8,
   "id": "eccea1d4-deab-4c89-b10f-35a45f0be78e",
   "metadata": {},
   "outputs": [
    {
     "name": "stdout",
     "output_type": "stream",
     "text": [
      "\u001b[33mWARN\u001b[0m[0000] /home/josephkevinmachado/code/de_101/5-Containarization/docker-compose.yml: the attribute `version` is obsolete, it will be ignored, please remove it to avoid potential confusion \n",
      "\u001b[33mWARN\u001b[0m[0000] Found orphan containers ([5-containarization-dbt-run-6a43aa7266c3 5-containarization-dbt-run-4b2361655405 5-containarization-dbt-run-60393ddb6b0a 5-containarization-dbt-run-7fc67c99497b 5-containarization-dbt-run-e62f2794d203 5-containarization-dbt-run-c3ffd47d14b3 5-containarization-dbt-run-656a08c83440 5-containarization-dbt-run-1f5e7fe817dc 5-containarization-dbt-run-d5fb3baf86cf]) for this project. If you removed or renamed this service in your compose file, you can run this command with the --remove-orphans flag to clean it up. \n",
      "Error response from daemon: driver failed programming external connectivity on endpoint 5-containarization-dbt-run-c15925472854 (85ed629008d4b1e8548853923ff581577f37b0525f8cafee291032c1e95d8b69): Bind for 0.0.0.0:8080 failed: port is already allocated\n"
     ]
    }
   ],
   "source": [
    "! docker compose run -p 8080:8080 dbt-image dbt docs serve"
   ]
  },
  {
   "cell_type": "markdown",
   "id": "9478febb-0284-40a4-b6e4-3b5175a25e21",
   "metadata": {},
   "source": [
    "## Define the OS you want to run your code on with an Image"
   ]
  },
  {
   "cell_type": "markdown",
   "id": "fb74a151-b4f0-4dfc-a82c-d97b2efafda9",
   "metadata": {},
   "source": [
    "## Containers are where your OS (& code) runs, they are created from Image"
   ]
  },
  {
   "cell_type": "markdown",
   "id": "f0949982-d00a-400e-97f9-144e8822960a",
   "metadata": {},
   "source": [
    "### Containers can be always running or only exist for the duration of your code"
   ]
  },
  {
   "cell_type": "markdown",
   "id": "eb725589-6053-44de-b4b3-93743ef6f4d7",
   "metadata": {},
   "source": [
    "## Containers can interact with your local OS"
   ]
  },
  {
   "cell_type": "markdown",
   "id": "8d0a42a1-e13d-4aa9-a899-75b3a7c38da1",
   "metadata": {},
   "source": [
    "### Ensure ports are open for your code to interact with other systems"
   ]
  },
  {
   "cell_type": "markdown",
   "id": "f32fefd1-bb38-4299-a2cd-7400c5fde43d",
   "metadata": {},
   "source": [
    "### Ensure code/data is synced between your local OS and your container with `volume mounts`"
   ]
  },
  {
   "cell_type": "markdown",
   "id": "037b9a7f-5af3-4e5f-b07e-d7a5cc86829a",
   "metadata": {},
   "source": [
    "## Orchestrate multiple containers with `docker compose`"
   ]
  },
  {
   "cell_type": "markdown",
   "id": "ce9de536-289e-466d-b25b-ef6140deed15",
   "metadata": {},
   "source": [
    "## Let's run our dbt pipeline with `docker exec`"
   ]
  }
 ],
 "metadata": {
  "kernelspec": {
   "display_name": "Python 3 (ipykernel)",
   "language": "python",
   "name": "python3"
  },
  "language_info": {
   "codemirror_mode": {
    "name": "ipython",
    "version": 3
   },
   "file_extension": ".py",
   "mimetype": "text/x-python",
   "name": "python",
   "nbconvert_exporter": "python",
   "pygments_lexer": "ipython3",
   "version": "3.12.4"
  }
 },
 "nbformat": 4,
 "nbformat_minor": 5
}
