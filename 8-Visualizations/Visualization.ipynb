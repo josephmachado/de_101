{
 "cells": [
  {
   "cell_type": "markdown",
   "id": "7fc407ea-3624-404f-87cc-e3fa449f3151",
   "metadata": {},
   "source": [
    "# Visualizations makes it easy to see data trends"
   ]
  },
  {
   "cell_type": "markdown",
   "id": "e5102035-0f96-41d1-87bb-230c1dd5416d",
   "metadata": {},
   "source": [
    "# Warehouses power visualization tools"
   ]
  },
  {
   "cell_type": "markdown",
   "id": "c28080ad-426c-49cb-8b25-3b72db0e8ad9",
   "metadata": {},
   "source": [
    "# Keep metric definition to a minimum"
   ]
  }
 ],
 "metadata": {
  "kernelspec": {
   "display_name": "Python 3 (ipykernel)",
   "language": "python",
   "name": "python3"
  },
  "language_info": {
   "codemirror_mode": {
    "name": "ipython",
    "version": 3
   },
   "file_extension": ".py",
   "mimetype": "text/x-python",
   "name": "python",
   "nbconvert_exporter": "python",
   "pygments_lexer": "ipython3",
   "version": "3.12.4"
  }
 },
 "nbformat": 4,
 "nbformat_minor": 5
}
