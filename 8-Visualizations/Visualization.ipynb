{
 "cells": [
  {
   "cell_type": "markdown",
   "id": "9c79e368-716e-4efd-bdc3-4ae329e89e65",
   "metadata": {},
   "source": [
    "Use orch & scheduler docker setup"
   ]
  },
  {
   "cell_type": "markdown",
   "id": "6c86ce8f-5407-423c-be07-a9e07e62c2f8",
   "metadata": {},
   "source": []
  },
  {
   "cell_type": "code",
   "execution_count": 6,
   "id": "b9cb318e-3f92-430a-8d5b-c1908beba875",
   "metadata": {},
   "outputs": [
    {
     "name": "stdout",
     "output_type": "stream",
     "text": [
      "CONTAINER ID   IMAGE     COMMAND   CREATED   STATUS    PORTS     NAMES\n"
     ]
    }
   ],
   "source": [
    "! docker ps"
   ]
  },
  {
   "cell_type": "code",
   "execution_count": 5,
   "id": "05ab3e77-5d75-4934-a11d-db0c97bdfc9a",
   "metadata": {},
   "outputs": [],
   "source": [
    "# open http://localhost:3000 on your browser"
   ]
  },
  {
   "cell_type": "code",
   "execution_count": null,
   "id": "5c8f9ee0-cc06-4160-9e77-77dc0c2c2eb9",
   "metadata": {},
   "outputs": [],
   "source": []
  },
  {
   "cell_type": "markdown",
   "id": "7fc407ea-3624-404f-87cc-e3fa449f3151",
   "metadata": {},
   "source": [
    "# Visualizations makes it easy to see data trends\n",
    "\n",
    "For non technical stake holders we need to ensure that they are able to quickly see trends, performance etc.\n",
    "\n",
    "Often times this is easier to define as a dashboard that end users can just view.\n",
    "\n",
    "Visualization tools also enable dynamic segmentation of data, allowing end users to easily explore the data without having to learn the intricacies of SQL.\n",
    "\n",
    "An additional benefit is that these tools allow the devs to define metrics in a way that enables end user to see the metrics under most conditions. For example if the end user filters the data by a specific country the metric will bereflected for the data post filter. While this may seound simple if you are using SQL, it is a lot of code. \n",
    "\n",
    "This is where BI tools shine are some even have their own scripting language (LOOKML, DAX, etc). **Note** that its best to keep your metric definition in your code repo when you can, as opposed to visualization tool. Having a single definition of metric will ensure  that any downstream consumer of our data (BI tool, dashboard, APIs, Data exports, etc) will have the same view of the data.                                                            \n",
    "\n",
    "Also note that most paid BI tools charge per seat and can be very expensive if not carefully managed."
   ]
  },
  {
   "cell_type": "markdown",
   "id": "14b6decb-ffeb-40cd-a506-2ab2f1ef1de6",
   "metadata": {},
   "source": [
    "In our example we will use the open source version of `Metabase` add link"
   ]
  },
  {
   "cell_type": "markdown",
   "id": "e5102035-0f96-41d1-87bb-230c1dd5416d",
   "metadata": {},
   "source": [
    "# Warehouses power visualization tools\n",
    "\n",
    "Visualization (BI) tools often run queries on your warehouse. When an enduser is exploring data via the UI, the visualization tool run a new query on your warehouse. Ensure that your warehouse has proper caching setup, otherwise each query (in response to a simple UI drag-drop) from the BI tool will result in a new query, causing warehouse usage cost to sky rocket.\n",
    "\n",
    "There is a different type visualization tool, where the visualizations are generated as static html (evidence.dev, quarto, dash, plotly) where one can generate static HTML periodically and the end user just sees those. The upside is that you don't need a separate tool and simplicity. The downside is the almost non-existent data exploration capabilities of static HTML pages."
   ]
  },
  {
   "cell_type": "markdown",
   "id": "c28080ad-426c-49cb-8b25-3b72db0e8ad9",
   "metadata": {},
   "source": [
    "# Keep metric definition in BI tools to a minimum"
   ]
  }
 ],
 "metadata": {
  "kernelspec": {
   "display_name": "Python 3 (ipykernel)",
   "language": "python",
   "name": "python3"
  },
  "language_info": {
   "codemirror_mode": {
    "name": "ipython",
    "version": 3
   },
   "file_extension": ".py",
   "mimetype": "text/x-python",
   "name": "python",
   "nbconvert_exporter": "python",
   "pygments_lexer": "ipython3",
   "version": "3.12.4"
  }
 },
 "nbformat": 4,
 "nbformat_minor": 5
}
