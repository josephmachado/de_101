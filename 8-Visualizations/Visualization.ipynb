{
 "cells": [
  {
   "cell_type": "markdown",
   "id": "9c79e368-716e-4efd-bdc3-4ae329e89e65",
   "metadata": {},
   "source": [
    "Use orch & scheduler docker setup"
   ]
  },
  {
   "cell_type": "markdown",
   "id": "6c86ce8f-5407-423c-be07-a9e07e62c2f8",
   "metadata": {},
   "source": []
  },
  {
   "cell_type": "code",
   "execution_count": 6,
   "id": "b9cb318e-3f92-430a-8d5b-c1908beba875",
   "metadata": {},
   "outputs": [
    {
     "name": "stdout",
     "output_type": "stream",
     "text": [
      "CONTAINER ID   IMAGE     COMMAND   CREATED   STATUS    PORTS     NAMES\n"
     ]
    }
   ],
   "source": [
    "! docker ps"
   ]
  },
  {
   "cell_type": "code",
   "execution_count": 5,
   "id": "05ab3e77-5d75-4934-a11d-db0c97bdfc9a",
   "metadata": {},
   "outputs": [],
   "source": [
    "# open http://localhost:3000 on your browser"
   ]
  },
  {
   "cell_type": "code",
   "execution_count": null,
   "id": "5c8f9ee0-cc06-4160-9e77-77dc0c2c2eb9",
   "metadata": {},
   "outputs": [],
   "source": []
  },
  {
   "cell_type": "markdown",
   "id": "7fc407ea-3624-404f-87cc-e3fa449f3151",
   "metadata": {},
   "source": [
    "# Visualizations makes it easy to see data trends"
   ]
  },
  {
   "cell_type": "markdown",
   "id": "e5102035-0f96-41d1-87bb-230c1dd5416d",
   "metadata": {},
   "source": [
    "# Warehouses power visualization tools"
   ]
  },
  {
   "cell_type": "markdown",
   "id": "c28080ad-426c-49cb-8b25-3b72db0e8ad9",
   "metadata": {},
   "source": [
    "# Keep metric definition to a minimum"
   ]
  }
 ],
 "metadata": {
  "kernelspec": {
   "display_name": "Python 3 (ipykernel)",
   "language": "python",
   "name": "python3"
  },
  "language_info": {
   "codemirror_mode": {
    "name": "ipython",
    "version": 3
   },
   "file_extension": ".py",
   "mimetype": "text/x-python",
   "name": "python",
   "nbconvert_exporter": "python",
   "pygments_lexer": "ipython3",
   "version": "3.12.4"
  }
 },
 "nbformat": 4,
 "nbformat_minor": 5
}
