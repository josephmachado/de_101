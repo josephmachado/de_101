{
 "cells": [
  {
   "cell_type": "markdown",
   "id": "391bc155-4b40-4383-b47b-0e11fe9675d3",
   "metadata": {},
   "source": [
    "# CI/CD enables making fast and safe code changes"
   ]
  },
  {
   "cell_type": "markdown",
   "id": "1132bfcd-69c0-42b8-972b-09f2b8a880f9",
   "metadata": {},
   "source": [
    "# CI => test code before changing production system"
   ]
  },
  {
   "cell_type": "markdown",
   "id": "f1bc6a58-2787-4d65-b290-4db0cee63f76",
   "metadata": {},
   "source": [
    "# CD => Automate pushing code to production system"
   ]
  },
  {
   "cell_type": "markdown",
   "id": "561eb1dc-c50b-4729-aed4-c5bbc257dd54",
   "metadata": {},
   "source": [
    "# CI/CD with GitHub Actions"
   ]
  }
 ],
 "metadata": {
  "kernelspec": {
   "display_name": "Python 3 (ipykernel)",
   "language": "python",
   "name": "python3"
  },
  "language_info": {
   "codemirror_mode": {
    "name": "ipython",
    "version": 3
   },
   "file_extension": ".py",
   "mimetype": "text/x-python",
   "name": "python",
   "nbconvert_exporter": "python",
   "pygments_lexer": "ipython3",
   "version": "3.12.4"
  }
 },
 "nbformat": 4,
 "nbformat_minor": 5
}
