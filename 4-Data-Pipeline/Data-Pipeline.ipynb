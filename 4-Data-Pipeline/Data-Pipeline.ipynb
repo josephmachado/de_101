{
 "cells": [
  {
   "cell_type": "markdown",
   "id": "b0f0caf4-cb3b-449f-ac76-a7d05d8cb3e1",
   "metadata": {},
   "source": [
    "# Data pipelines involves extracting, transforming, & loading data for analytical use case"
   ]
  },
  {
   "cell_type": "code",
   "execution_count": null,
   "id": "1b05375d-1f03-4d51-9586-6f80e3045ec7",
   "metadata": {},
   "outputs": [],
   "source": [
    "! python ../setup.py"
   ]
  },
  {
   "cell_type": "code",
   "execution_count": null,
   "id": "a87bc59c-72f6-48f2-a67e-32214cae9db3",
   "metadata": {},
   "outputs": [],
   "source": [
    "import duckdb\n",
    "import pandas as pd\n",
    "\n",
    "%load_ext sql\n",
    "conn = duckdb.connect(\"tpch.db\")\n",
    "%sql conn --alias duckdb"
   ]
  },
  {
   "cell_type": "code",
   "execution_count": null,
   "id": "9136b027-2f49-4fd8-b4bf-2f4ce6187b73",
   "metadata": {},
   "outputs": [],
   "source": [
    "%%sql\n",
    "show tables;"
   ]
  },
  {
   "cell_type": "markdown",
   "id": "c02e577c-2caf-4af6-9138-9c16fae32c36",
   "metadata": {},
   "source": [
    "## Let's create our data pipeline with Python"
   ]
  },
  {
   "cell_type": "code",
   "execution_count": null,
   "id": "d21917ce-4b6b-4b81-9be6-d0129c033b72",
   "metadata": {},
   "outputs": [],
   "source": [
    "import duckdb\n",
    "\n",
    "db_file_name = 'tpch.db'\n",
    "conn = duckdb.connect(db_file_name)\n",
    "cursor = conn.cursor()\n",
    "\n",
    "# Connect to DuckDB and load TPC-H tables into Pandas DataFrames\n",
    "customer_df = cursor.sql(\"SELECT * FROM customer\").df()\n",
    "orders_df = cursor.sql(\"SELECT * FROM orders\").df()\n",
    "lineitem_df = cursor.sql(\"SELECT * FROM lineitem\").df()\n",
    "nation_df = cursor.sql(\"SELECT * FROM nation\").df()\n",
    "region_df = cursor.sql(\"SELECT * FROM region\").df()\n",
    "supplier_df = cursor.sql(\"SELECT * FROM supplier\").df()\n",
    "part_df = cursor.sql(\"SELECT * FROM part\").df()\n",
    "partsupp_df = cursor.sql(\"SELECT * FROM partsupp\").df()\n",
    "\n",
    "conn.close()"
   ]
  },
  {
   "cell_type": "code",
   "execution_count": null,
   "id": "f14afff3-7322-479a-afdf-22265faa6024",
   "metadata": {},
   "outputs": [],
   "source": [
    "# Create bronze tables\n",
    "def create_bronze_tables(db_file_name):\n",
    "    with duckdb.connect(db_file_name) as con:\n",
    "        con.sql(\"\"\"\n",
    "        DROP SCHEMA IF EXISTS bronze CASCADE;\n",
    "        \"\"\")\n",
    "        \n",
    "        con.sql(\"\"\"\n",
    "        CREATE SCHEMA IF NOT EXISTS bronze;\n",
    "        \"\"\")\n",
    "        \n",
    "        con.sql(\"\"\"\n",
    "        DROP TABLE IF EXISTS bronze.customer;\n",
    "        \"\"\")\n",
    "        \n",
    "        con.sql(\"\"\"\n",
    "        CREATE TABLE bronze.customer AS \n",
    "        SELECT \n",
    "            c_custkey AS customer_key,\n",
    "            c_name AS name,\n",
    "            c_address AS address,\n",
    "            c_nationkey AS nationkey,\n",
    "            c_phone AS phone,\n",
    "            c_acctbal AS acctbal,\n",
    "            c_mktsegment AS mktsegment,\n",
    "            c_comment AS comment\n",
    "        FROM customer;\n",
    "        \"\"\")\n",
    "        \n",
    "        con.sql(\"\"\"\n",
    "        DROP TABLE IF EXISTS bronze.nation;\n",
    "        \"\"\")\n",
    "        \n",
    "        con.sql(\"\"\"\n",
    "        CREATE TABLE bronze.nation AS \n",
    "        SELECT \n",
    "            n_nationkey AS nationkey,\n",
    "            n_name AS name,\n",
    "            n_regionkey AS regionkey,\n",
    "            n_comment AS comment\n",
    "        FROM nation;\n",
    "        \"\"\")\n",
    "        \n",
    "        con.sql(\"\"\"\n",
    "        DROP TABLE IF EXISTS bronze.region;\n",
    "        \"\"\")\n",
    "        \n",
    "        con.sql(\"\"\"\n",
    "        CREATE TABLE bronze.region AS \n",
    "        SELECT \n",
    "            r_regionkey AS regionkey,\n",
    "            r_name AS name,\n",
    "            r_comment AS comment\n",
    "        FROM region;\n",
    "        \"\"\")\n",
    "        \n",
    "        con.sql(\"\"\"\n",
    "        DROP TABLE IF EXISTS bronze.orders;\n",
    "        \"\"\")\n",
    "        \n",
    "        con.sql(\"\"\"\n",
    "        CREATE TABLE bronze.orders AS \n",
    "        SELECT \n",
    "            o_orderkey AS orderkey,\n",
    "            o_custkey AS custkey,\n",
    "            o_orderstatus AS orderstatus,\n",
    "            o_totalprice AS totalprice,\n",
    "            o_orderdate AS orderdate,\n",
    "            o_orderpriority AS orderpriority,\n",
    "            o_clerk AS clerk,\n",
    "            o_shippriority AS shippriority,\n",
    "            o_comment AS comment\n",
    "        FROM orders;\n",
    "        \"\"\")\n",
    "        \n",
    "        con.sql(\"\"\"\n",
    "        DROP TABLE IF EXISTS bronze.lineitem;\n",
    "        \"\"\")\n",
    "        \n",
    "        con.sql(\"\"\"\n",
    "        CREATE TABLE bronze.lineitem AS \n",
    "        SELECT \n",
    "            l_orderkey AS orderkey,\n",
    "            l_partkey AS partkey,\n",
    "            l_suppkey AS suppkey,\n",
    "            l_linenumber AS linenumber,\n",
    "            l_quantity AS quantity,\n",
    "            l_extendedprice AS extendedprice,\n",
    "            l_discount AS discount,\n",
    "            l_tax AS tax,\n",
    "            l_returnflag AS returnflag,\n",
    "            l_linestatus AS linestatus,\n",
    "            l_shipdate AS shipdate,\n",
    "            l_commitdate AS commitdate,\n",
    "            l_receiptdate AS receiptdate,\n",
    "            l_shipinstruct AS shipinstruct,\n",
    "            l_shipmode AS shipmode,\n",
    "            l_comment AS comment\n",
    "        FROM lineitem;\n",
    "        \"\"\")"
   ]
  },
  {
   "cell_type": "code",
   "execution_count": null,
   "id": "84c731cd-50bd-412c-8812-e713d58ee20e",
   "metadata": {},
   "outputs": [],
   "source": [
    "# Create silver tables\n",
    "def create_silver_tables(db_file_name):\n",
    "    with duckdb.connect(db_file_name) as con:\n",
    "        con.sql(\"\"\"\n",
    "        DROP TABLE IF EXISTS dim_customer;\n",
    "        \"\"\")\n",
    "        \n",
    "        con.sql(\"\"\"\n",
    "        CREATE TABLE dim_customer AS\n",
    "        SELECT \n",
    "            c.customer_key,\n",
    "            c.name AS customer_name,\n",
    "            c.address,\n",
    "            c.phone,\n",
    "            c.acctbal,\n",
    "            c.mktsegment,\n",
    "            n.name AS nation_name,\n",
    "            n.comment AS nation_comment,\n",
    "            r.name AS region_name,\n",
    "            r.comment AS region_comment\n",
    "        FROM bronze.customer AS c\n",
    "        LEFT JOIN bronze.nation AS n ON c.nationkey = n.nationkey\n",
    "        LEFT JOIN bronze.region AS r ON n.regionkey = r.regionkey;\n",
    "        \"\"\")\n",
    "        \n",
    "        con.sql(\"\"\"\n",
    "        DROP TABLE IF EXISTS fct_orders;\n",
    "        \"\"\")\n",
    "        \n",
    "        con.sql(\"\"\"\n",
    "        CREATE TABLE fct_orders AS\n",
    "        SELECT \n",
    "            o.orderkey,\n",
    "            o.custkey,\n",
    "            o.orderstatus,\n",
    "            o.totalprice,\n",
    "            o.orderdate,\n",
    "            o.orderpriority,\n",
    "            o.clerk,\n",
    "            o.shippriority,\n",
    "            o.comment\n",
    "        FROM bronze.orders AS o;\n",
    "        \"\"\")\n",
    "        \n",
    "        con.sql(\"\"\"\n",
    "        DROP TABLE IF EXISTS fct_lineitem;\n",
    "        \"\"\")\n",
    "        \n",
    "        con.sql(\"\"\"\n",
    "        CREATE TABLE fct_lineitem AS\n",
    "        SELECT \n",
    "            l.orderkey,\n",
    "            l.partkey,\n",
    "            l.suppkey,\n",
    "            l.linenumber,\n",
    "            l.quantity,\n",
    "            l.extendedprice,\n",
    "            l.discount,\n",
    "            l.tax,\n",
    "            l.returnflag,\n",
    "            l.linestatus,\n",
    "            l.shipdate,\n",
    "            l.commitdate,\n",
    "            l.receiptdate,\n",
    "            l.shipinstruct,\n",
    "            l.shipmode,\n",
    "            l.comment\n",
    "        FROM bronze.lineitem AS l;\n",
    "        \"\"\")\n",
    "        con.commit()"
   ]
  },
  {
   "cell_type": "code",
   "execution_count": null,
   "id": "96b36280-096d-4f55-b54b-0f7ed4ac2fa8",
   "metadata": {},
   "outputs": [],
   "source": [
    "# Create gold tables\n",
    "def create_obts(db_file_name):\n",
    "    with duckdb.connect(db_file_name) as con:\n",
    "        con.sql(\"\"\"\n",
    "        DROP TABLE IF EXISTS wide_orders;\n",
    "        \"\"\")\n",
    "        \n",
    "        con.sql(\"\"\"\n",
    "        CREATE TABLE wide_orders AS\n",
    "        SELECT o.*,\n",
    "            c.*\n",
    "        FROM fct_orders o\n",
    "        LEFT JOIN dim_customer c \n",
    "        ON o.custkey = c.customer_key;\n",
    "        \"\"\")\n",
    "        \n",
    "        con.sql(\"\"\"\n",
    "        DROP TABLE IF EXISTS wide_lineitem;\n",
    "        \"\"\")\n",
    "        \n",
    "        con.sql(\"\"\"\n",
    "        CREATE TABLE wide_lineitem AS\n",
    "        SELECT * FROM fct_lineitem;\n",
    "        \"\"\")\n",
    "\n",
    "\n",
    "def create_preagg_tables(db_file_name):\n",
    "    with duckdb.connect(db_file_name) as con:\n",
    "        con.sql(\"\"\"\n",
    "        DROP TABLE IF EXISTS order_lineitem_metrics;\n",
    "        \"\"\")\n",
    "        \n",
    "        con.sql(\"\"\"\n",
    "        CREATE TABLE order_lineitem_metrics AS\n",
    "        SELECT \n",
    "            orderkey AS order_key,\n",
    "            COUNT(linenumber) AS num_lineitems\n",
    "        FROM wide_lineitem\n",
    "        GROUP BY orderkey;\n",
    "        \"\"\")\n",
    "        con.sql(\"\"\"\n",
    "        DROP TABLE IF EXISTS customer_outreach_metrics;\n",
    "        \"\"\")\n",
    "        \n",
    "        con.sql(\"\"\"\n",
    "        CREATE TABLE customer_outreach_metrics AS\n",
    "        SELECT \n",
    "            o.customer_key,\n",
    "            o.customer_name,\n",
    "            MIN(o.totalprice) AS min_order_value,\n",
    "            MAX(o.totalprice) AS max_order_value,\n",
    "            AVG(o.totalprice) AS avg_order_value,\n",
    "            AVG(m.num_lineitems) AS avg_num_items_per_order\n",
    "        FROM wide_orders AS o\n",
    "        LEFT JOIN (\n",
    "            SELECT \n",
    "                orderkey AS order_key,\n",
    "                COUNT(linenumber) AS num_lineitems\n",
    "            FROM wide_lineitem\n",
    "            GROUP BY orderkey\n",
    "        ) AS m ON o.orderkey = m.order_key\n",
    "        GROUP BY o.customer_key, o.customer_name;\n",
    "        \"\"\")\n",
    "\n",
    "def create_gold_tables(db_file_name):\n",
    "    create_obts(db_file_name)\n",
    "    create_preagg_tables(db_file_name)"
   ]
  },
  {
   "cell_type": "code",
   "execution_count": null,
   "id": "bab6329e-4a6c-4560-bae8-a20577821849",
   "metadata": {},
   "outputs": [],
   "source": [
    "def run_pipeline(db_file_name):\n",
    "    print(\"==========CREATING BRONZE TABLES===================\")\n",
    "    create_bronze_tables(db_file_name)\n",
    "    print(\"==========CREATING SILVER TABLES===================\")\n",
    "    create_silver_tables(db_file_name)\n",
    "    print(\"==========CREATING GOLD TABLES===================\")\n",
    "    create_gold_tables(db_file_name)"
   ]
  },
  {
   "cell_type": "code",
   "execution_count": null,
   "id": "f1774053-85e9-4cb1-b0ba-a072f56d1e75",
   "metadata": {},
   "outputs": [],
   "source": [
    "# Run the data pipeline \n",
    "db_file_name = './tpch.db'\n",
    "run_pipeline(db_file_name)"
   ]
  },
  {
   "cell_type": "code",
   "execution_count": null,
   "id": "32883b42-d68c-419a-bbc9-eb95f71ce293",
   "metadata": {},
   "outputs": [],
   "source": [
    "with duckdb.connect(db_file_name) as con:\n",
    "    con.table(\"customer_outreach_metrics\").show(max_rows=5)"
   ]
  },
  {
   "cell_type": "markdown",
   "id": "78475cc9-0797-44bb-890e-b6fbc66788ec",
   "metadata": {},
   "source": [
    "Cons\n",
    "\n",
    "* Code\n",
    "* Bugs and maintanance\n",
    "* adding new tables is tough\n",
    "* need to split out table functions for modularity,\n",
    "\n",
    "Just running SQL code, there is an easier way to do this with data build tool (dbt)"
   ]
  },
  {
   "cell_type": "markdown",
   "id": "0ac03ce5-eaed-474f-ab82-e5e2819f8271",
   "metadata": {},
   "source": [
    "## dbt (data build tool) enables one to build data pipelines with SWE best practices"
   ]
  },
  {
   "cell_type": "markdown",
   "id": "d07b9126-6c84-49e9-b608-9dd6821670ba",
   "metadata": {},
   "source": [
    "### dbt is a cli "
   ]
  },
  {
   "cell_type": "markdown",
   "id": "0a8b7007-0514-44db-b1dd-2cce43b68e7f",
   "metadata": {},
   "source": [
    "- One SQL select query (with any transformations you want) per file\n",
    "- file name = model name (model can be SQL table/view/matreilaized view, etc)\n",
    "- Data quality checks\n",
    "- define documentation with yml file\n",
    "- automatic data lineage diagram with a static webpage\n",
    "- support for SCD2 creation"
   ]
  },
  {
   "cell_type": "markdown",
   "id": "24e32c19-e334-4f3d-9bda-45c406bde438",
   "metadata": {},
   "source": [
    "### The popularity of dbt is its ability to create data pipelines with SQL scripts"
   ]
  },
  {
   "cell_type": "code",
   "execution_count": null,
   "id": "c896cc7d-87d0-483b-b55b-d914fd42f7ed",
   "metadata": {},
   "outputs": [],
   "source": [
    "! dbt --version"
   ]
  },
  {
   "cell_type": "code",
   "execution_count": null,
   "id": "eb5745f0-f66a-4973-88d4-55da408021be",
   "metadata": {},
   "outputs": [],
   "source": [
    "! dbt init tpch_warehouse"
   ]
  },
  {
   "cell_type": "markdown",
   "id": "1b3888a0-94e5-4284-9bc5-cbc42c71a5f3",
   "metadata": {},
   "source": [
    "Create a `profiles.yml` in the `tpch_warehouse` folder with the following content (note this would be already created for you)\n",
    "\n",
    "```yml\n",
    "---\n",
    "config:\n",
    "  send_anonymous_usage_stats: false\n",
    "tpch_warehouse:\n",
    "  target: dev\n",
    "  outputs:\n",
    "    dev:\n",
    "      type: duckdb\n",
    "      path: ./dbt.duckdb\n",
    "    prod:\n",
    "      type: duckdb\n",
    "      path: ./dbt-prod.duckdb\n",
    "```"
   ]
  },
  {
   "cell_type": "code",
   "execution_count": null,
   "id": "d0dd8e9d-93cf-40f3-a953-83575b41059f",
   "metadata": {},
   "outputs": [],
   "source": [
    "! cd tpch_warehouse/ && python ../../setup.py --db_file dbt.duckdb"
   ]
  },
  {
   "cell_type": "code",
   "execution_count": null,
   "id": "c67515dc-48df-4cf2-a3ac-6b91db9b215a",
   "metadata": {},
   "outputs": [],
   "source": [
    "! mkdir tpch_warehouse/raw_data"
   ]
  },
  {
   "cell_type": "code",
   "execution_count": null,
   "id": "984ee0df-28a7-469d-8297-59ec87449b54",
   "metadata": {},
   "outputs": [],
   "source": [
    "import duckdb\n",
    "\n",
    "db_file_name = './tpch_warehouse/dbt.duckdb'\n",
    "conn = duckdb.connect(db_file_name)\n",
    "cursor = conn.cursor()\n",
    "\n",
    "for table in ['customer', 'orders', 'lineitem', 'nation', 'region', 'supplier', 'part', 'partsupp']:\n",
    "    cursor.execute(f\"COPY {table} TO './tpch_warehouse/raw_data/{table}.csv' (HEADER, DELIMITER ',');\")\n",
    "\n",
    "conn.commit()\n",
    "conn.close()"
   ]
  },
  {
   "cell_type": "code",
   "execution_count": 1,
   "id": "30b8fcc5-eb55-4928-8aa9-6dd06b161c87",
   "metadata": {},
   "outputs": [
    {
     "name": "stdout",
     "output_type": "stream",
     "text": [
      "\u001b[0m15:02:06  Running with dbt=1.8.8\n",
      "\u001b[0m15:02:06  [\u001b[33mWARNING\u001b[0m]: Deprecated functionality\n",
      "\n",
      "User config should be moved from the 'config' key in profiles.yml to the 'flags' key in dbt_project.yml.\n",
      "\u001b[0m15:02:06  dbt version: 1.8.8\n",
      "\u001b[0m15:02:06  python version: 3.12.4\n",
      "\u001b[0m15:02:06  python path: /home/josephkevinmachado/code/de_101/env/bin/python\n",
      "\u001b[0m15:02:06  os info: Linux-6.9.3-76060903-generic-x86_64-with-glibc2.35\n",
      "\u001b[0m15:02:07  Using profiles dir at /home/josephkevinmachado/code/de_101/4-Data-Pipeline/tpch_warehouse\n",
      "\u001b[0m15:02:07  Using profiles.yml file at /home/josephkevinmachado/code/de_101/4-Data-Pipeline/tpch_warehouse/profiles.yml\n",
      "\u001b[0m15:02:07  Using dbt_project.yml file at /home/josephkevinmachado/code/de_101/4-Data-Pipeline/tpch_warehouse/dbt_project.yml\n",
      "\u001b[0m15:02:07  adapter type: duckdb\n",
      "\u001b[0m15:02:07  adapter version: 1.9.0\n",
      "\u001b[0m15:02:07  Configuration:\n",
      "\u001b[0m15:02:07    profiles.yml file [\u001b[32mOK found and valid\u001b[0m]\n",
      "\u001b[0m15:02:07    dbt_project.yml file [\u001b[32mOK found and valid\u001b[0m]\n",
      "\u001b[0m15:02:07  Required dependencies:\n",
      "\u001b[0m15:02:07   - git [\u001b[32mOK found\u001b[0m]\n",
      "\n",
      "\u001b[0m15:02:07  Connection:\n",
      "\u001b[0m15:02:07    database: dbt\n",
      "\u001b[0m15:02:07    schema: main\n",
      "\u001b[0m15:02:07    path: ./dbt.duckdb\n",
      "\u001b[0m15:02:07    config_options: None\n",
      "\u001b[0m15:02:07    extensions: None\n",
      "\u001b[0m15:02:07    settings: {}\n",
      "\u001b[0m15:02:07    external_root: .\n",
      "\u001b[0m15:02:07    use_credential_provider: None\n",
      "\u001b[0m15:02:07    attach: None\n",
      "\u001b[0m15:02:07    filesystems: None\n",
      "\u001b[0m15:02:07    remote: None\n",
      "\u001b[0m15:02:07    plugins: None\n",
      "\u001b[0m15:02:07    disable_transactions: False\n",
      "\u001b[0m15:02:07  Registered adapter: duckdb=1.9.0\n",
      "\u001b[0m15:02:07    Connection test: [\u001b[32mOK connection ok\u001b[0m]\n",
      "\n",
      "\u001b[0m15:02:07  \u001b[32mAll checks passed!\u001b[0m\n"
     ]
    }
   ],
   "source": [
    "! cd tpch_warehouse && dbt debug # Command to check connection to our warehouse"
   ]
  },
  {
   "cell_type": "code",
   "execution_count": 2,
   "id": "e4cea369-53c6-43be-ab63-712acf683998",
   "metadata": {},
   "outputs": [],
   "source": [
    "! rm -rf ./tpch_warehouse/models/*/.ipynb_checkpoints # always run before dbt run, caused by notebooks, no need to do this if performed via terminal"
   ]
  },
  {
   "cell_type": "code",
   "execution_count": 3,
   "id": "988c0a8c-2d40-4ebb-9172-e356c9652ea5",
   "metadata": {},
   "outputs": [
    {
     "name": "stdout",
     "output_type": "stream",
     "text": [
      "\u001b[0m15:02:09  Running with dbt=1.8.8\n",
      "\u001b[0m15:02:09  [\u001b[33mWARNING\u001b[0m]: Deprecated functionality\n",
      "\n",
      "User config should be moved from the 'config' key in profiles.yml to the 'flags' key in dbt_project.yml.\n",
      "\u001b[0m15:02:10  Registered adapter: duckdb=1.9.0\n",
      "\u001b[0m15:02:10  [\u001b[33mWARNING\u001b[0m]: Configuration paths exist in your dbt_project.yml file which do not apply to any resources.\n",
      "There are 1 unused configuration paths:\n",
      "- models.tpch_warehouse.example\n",
      "\u001b[0m15:02:10  Found 12 models, 10 data tests, 8 sources, 416 macros\n",
      "\u001b[0m15:02:10  \n",
      "\u001b[0m15:02:10  Concurrency: 1 threads (target='dev')\n",
      "\u001b[0m15:02:10  \n",
      "\u001b[0m15:02:10  1 of 12 START sql view model main.stg_customers ................................ [RUN]\n",
      "\u001b[0m15:02:11  1 of 12 OK created sql view model main.stg_customers ........................... [\u001b[32mOK\u001b[0m in 0.15s]\n",
      "\u001b[0m15:02:11  2 of 12 START sql view model main.stg_lineitems ................................ [RUN]\n",
      "\u001b[0m15:02:11  2 of 12 OK created sql view model main.stg_lineitems ........................... [\u001b[32mOK\u001b[0m in 0.11s]\n",
      "\u001b[0m15:02:11  3 of 12 START sql view model main.stg_nation ................................... [RUN]\n",
      "\u001b[0m15:02:11  3 of 12 OK created sql view model main.stg_nation .............................. [\u001b[32mOK\u001b[0m in 0.06s]\n",
      "\u001b[0m15:02:11  4 of 12 START sql view model main.stg_orders ................................... [RUN]\n",
      "\u001b[0m15:02:11  4 of 12 OK created sql view model main.stg_orders .............................. [\u001b[32mOK\u001b[0m in 0.10s]\n",
      "\u001b[0m15:02:11  5 of 12 START sql view model main.stg_region ................................... [RUN]\n",
      "\u001b[0m15:02:11  5 of 12 OK created sql view model main.stg_region .............................. [\u001b[32mOK\u001b[0m in 0.09s]\n",
      "\u001b[0m15:02:11  6 of 12 START sql view model main.fct_lineitems ................................ [RUN]\n",
      "\u001b[0m15:02:11  6 of 12 OK created sql view model main.fct_lineitems ........................... [\u001b[32mOK\u001b[0m in 0.12s]\n",
      "\u001b[0m15:02:11  7 of 12 START sql view model main.fct_orders ................................... [RUN]\n",
      "\u001b[0m15:02:11  7 of 12 OK created sql view model main.fct_orders .............................. [\u001b[32mOK\u001b[0m in 0.10s]\n",
      "\u001b[0m15:02:11  8 of 12 START sql view model main.dim_customers ................................ [RUN]\n",
      "\u001b[0m15:02:11  8 of 12 OK created sql view model main.dim_customers ........................... [\u001b[32mOK\u001b[0m in 0.07s]\n",
      "\u001b[0m15:02:11  9 of 12 START sql view model main.wide_lineitem ................................ [RUN]\n",
      "\u001b[0m15:02:11  9 of 12 OK created sql view model main.wide_lineitem ........................... [\u001b[32mOK\u001b[0m in 0.10s]\n",
      "\u001b[0m15:02:11  10 of 12 START sql view model main.wide_orders ................................. [RUN]\n",
      "\u001b[0m15:02:11  10 of 12 OK created sql view model main.wide_orders ............................ [\u001b[32mOK\u001b[0m in 0.09s]\n",
      "\u001b[0m15:02:11  11 of 12 START sql view model main.order_lineitem_metrics ...................... [RUN]\n",
      "\u001b[0m15:02:12  11 of 12 OK created sql view model main.order_lineitem_metrics ................. [\u001b[32mOK\u001b[0m in 0.12s]\n",
      "\u001b[0m15:02:12  12 of 12 START sql view model main.customer_outreach_metrics ................... [RUN]\n",
      "\u001b[0m15:02:12  12 of 12 OK created sql view model main.customer_outreach_metrics .............. [\u001b[32mOK\u001b[0m in 0.19s]\n",
      "\u001b[0m15:02:12  \n",
      "\u001b[0m15:02:12  Finished running 12 view models in 0 hours 0 minutes and 1.54 seconds (1.54s).\n",
      "\u001b[0m15:02:12  \n",
      "\u001b[0m15:02:12  \u001b[32mCompleted successfully\u001b[0m\n",
      "\u001b[0m15:02:12  \n",
      "\u001b[0m15:02:12  Done. PASS=12 WARN=0 ERROR=0 SKIP=0 TOTAL=12\n"
     ]
    }
   ],
   "source": [
    "! cd tpch_warehouse/ && dbt run"
   ]
  },
  {
   "cell_type": "code",
   "execution_count": 4,
   "id": "104d319b-06a3-49db-825f-854a9ca8d5bf",
   "metadata": {},
   "outputs": [
    {
     "name": "stdout",
     "output_type": "stream",
     "text": [
      "zsh:1: no matches found: ./tpch_warehouse/models/*/.ipynb_checkpoints\n"
     ]
    }
   ],
   "source": [
    "! rm -rf ./tpch_warehouse/models/*/.ipynb_checkpoints # always run before dbt test, caused by notebooks, no need to do this if performed via terminal"
   ]
  },
  {
   "cell_type": "code",
   "execution_count": 5,
   "id": "3977f862-b9c8-4d11-949d-0dea76662443",
   "metadata": {},
   "outputs": [
    {
     "name": "stdout",
     "output_type": "stream",
     "text": [
      "\u001b[0m15:02:14  Running with dbt=1.8.8\n",
      "\u001b[0m15:02:14  [\u001b[33mWARNING\u001b[0m]: Deprecated functionality\n",
      "\n",
      "User config should be moved from the 'config' key in profiles.yml to the 'flags' key in dbt_project.yml.\n",
      "\u001b[0m15:02:15  Registered adapter: duckdb=1.9.0\n",
      "\u001b[0m15:02:15  [\u001b[33mWARNING\u001b[0m]: Configuration paths exist in your dbt_project.yml file which do not apply to any resources.\n",
      "There are 1 unused configuration paths:\n",
      "- models.tpch_warehouse.example\n",
      "\u001b[0m15:02:15  Found 12 models, 10 data tests, 8 sources, 416 macros\n",
      "\u001b[0m15:02:15  \n",
      "\u001b[0m15:02:15  Concurrency: 1 threads (target='dev')\n",
      "\u001b[0m15:02:15  \n",
      "\u001b[0m15:02:15  1 of 10 START test not_null_fct_orders_orderkey ................................ [RUN]\n",
      "\u001b[0m15:02:15  1 of 10 PASS not_null_fct_orders_orderkey ...................................... [\u001b[32mPASS\u001b[0m in 0.09s]\n",
      "\u001b[0m15:02:15  2 of 10 START test not_null_stg_nation_nationkey ............................... [RUN]\n",
      "\u001b[0m15:02:15  2 of 10 PASS not_null_stg_nation_nationkey ..................................... [\u001b[32mPASS\u001b[0m in 0.02s]\n",
      "\u001b[0m15:02:15  3 of 10 START test not_null_stg_orders_orderkey ................................ [RUN]\n",
      "\u001b[0m15:02:15  3 of 10 PASS not_null_stg_orders_orderkey ...................................... [\u001b[32mPASS\u001b[0m in 0.06s]\n",
      "\u001b[0m15:02:15  4 of 10 START test not_null_stg_region_regionkey ............................... [RUN]\n",
      "\u001b[0m15:02:15  4 of 10 PASS not_null_stg_region_regionkey ..................................... [\u001b[32mPASS\u001b[0m in 0.03s]\n",
      "\u001b[0m15:02:15  5 of 10 START test not_null_wide_orders_orderkey ............................... [RUN]\n",
      "\u001b[0m15:02:15  5 of 10 PASS not_null_wide_orders_orderkey ..................................... [\u001b[32mPASS\u001b[0m in 0.08s]\n",
      "\u001b[0m15:02:15  6 of 10 START test unique_fct_orders_orderkey .................................. [RUN]\n",
      "\u001b[0m15:02:16  6 of 10 PASS unique_fct_orders_orderkey ........................................ [\u001b[32mPASS\u001b[0m in 0.07s]\n",
      "\u001b[0m15:02:16  7 of 10 START test unique_stg_nation_nationkey ................................. [RUN]\n",
      "\u001b[0m15:02:16  7 of 10 PASS unique_stg_nation_nationkey ....................................... [\u001b[32mPASS\u001b[0m in 0.02s]\n",
      "\u001b[0m15:02:16  8 of 10 START test unique_stg_orders_orderkey .................................. [RUN]\n",
      "\u001b[0m15:02:16  8 of 10 PASS unique_stg_orders_orderkey ........................................ [\u001b[32mPASS\u001b[0m in 0.07s]\n",
      "\u001b[0m15:02:16  9 of 10 START test unique_stg_region_regionkey ................................. [RUN]\n",
      "\u001b[0m15:02:16  9 of 10 PASS unique_stg_region_regionkey ....................................... [\u001b[32mPASS\u001b[0m in 0.03s]\n",
      "\u001b[0m15:02:16  10 of 10 START test unique_wide_orders_orderkey ................................ [RUN]\n",
      "\u001b[0m15:02:16  10 of 10 PASS unique_wide_orders_orderkey ...................................... [\u001b[32mPASS\u001b[0m in 0.07s]\n",
      "\u001b[0m15:02:16  \n",
      "\u001b[0m15:02:16  Finished running 10 data tests in 0 hours 0 minutes and 0.70 seconds (0.70s).\n",
      "\u001b[0m15:02:16  \n",
      "\u001b[0m15:02:16  \u001b[32mCompleted successfully\u001b[0m\n",
      "\u001b[0m15:02:16  \n",
      "\u001b[0m15:02:16  Done. PASS=10 WARN=0 ERROR=0 SKIP=0 TOTAL=10\n"
     ]
    }
   ],
   "source": [
    "! cd tpch_warehouse/ && dbt test"
   ]
  },
  {
   "cell_type": "code",
   "execution_count": 7,
   "id": "2b4274d7-45d9-4000-9cab-3295db41f946",
   "metadata": {},
   "outputs": [],
   "source": [
    "import duckdb\n",
    "\n",
    "db_file_name = 'tpch.db'\n",
    "conn = duckdb.connect(db_file_name)\n",
    "cursor = conn.cursor()\n",
    "\n",
    "# Connect to DuckDB and load TPC-H tables into Pandas DataFrames\n",
    "customer_df = cursor.sql(\"SELECT * FROM dim_customer\").df()\n",
    "\n",
    "conn.commit()\n",
    "conn.close()"
   ]
  },
  {
   "cell_type": "code",
   "execution_count": 12,
   "id": "ae37311b-4b7c-46de-85ff-16c0e27dfda1",
   "metadata": {},
   "outputs": [
    {
     "data": {
      "text/html": [
       "<div>\n",
       "<style scoped>\n",
       "    .dataframe tbody tr th:only-of-type {\n",
       "        vertical-align: middle;\n",
       "    }\n",
       "\n",
       "    .dataframe tbody tr th {\n",
       "        vertical-align: top;\n",
       "    }\n",
       "\n",
       "    .dataframe thead th {\n",
       "        text-align: right;\n",
       "    }\n",
       "</style>\n",
       "<table border=\"1\" class=\"dataframe\">\n",
       "  <thead>\n",
       "    <tr style=\"text-align: right;\">\n",
       "      <th></th>\n",
       "      <th>customer_key</th>\n",
       "      <th>customer_name</th>\n",
       "      <th>address</th>\n",
       "      <th>phone</th>\n",
       "      <th>acctbal</th>\n",
       "      <th>mktsegment</th>\n",
       "      <th>nation_name</th>\n",
       "      <th>nation_comment</th>\n",
       "      <th>region_name</th>\n",
       "      <th>region_comment</th>\n",
       "    </tr>\n",
       "  </thead>\n",
       "  <tbody>\n",
       "    <tr>\n",
       "      <th>695</th>\n",
       "      <td>696</td>\n",
       "      <td>Customer#000000696</td>\n",
       "      <td>O2tHWRsd,mnrkAM2uw</td>\n",
       "      <td>32-923-916-5643</td>\n",
       "      <td>3778.97</td>\n",
       "      <td>HOUSEHOLD</td>\n",
       "      <td>RUSSIA</td>\n",
       "      <td>uctions. furiously unusual instructions sleep ...</td>\n",
       "      <td>EUROPE</td>\n",
       "      <td>e dolphins are furiously about the carefully</td>\n",
       "    </tr>\n",
       "  </tbody>\n",
       "</table>\n",
       "</div>"
      ],
      "text/plain": [
       "     customer_key       customer_name             address            phone  \\\n",
       "695           696  Customer#000000696  O2tHWRsd,mnrkAM2uw  32-923-916-5643   \n",
       "\n",
       "     acctbal mktsegment nation_name  \\\n",
       "695  3778.97  HOUSEHOLD      RUSSIA   \n",
       "\n",
       "                                        nation_comment region_name  \\\n",
       "695  uctions. furiously unusual instructions sleep ...      EUROPE   \n",
       "\n",
       "                                    region_comment  \n",
       "695  e dolphins are furiously about the carefully   "
      ]
     },
     "execution_count": 12,
     "metadata": {},
     "output_type": "execute_result"
    }
   ],
   "source": [
    "customer_df.sample()"
   ]
  },
  {
   "cell_type": "markdown",
   "id": "c2a29dbb-2517-45d6-96a7-879e30e3eac4",
   "metadata": {},
   "source": [
    "### dbt has a preferred step-by-step way to transform data"
   ]
  },
  {
   "cell_type": "markdown",
   "id": "e87f82d6-9525-4400-bc52-e343dca060df",
   "metadata": {},
   "source": [
    "### Connection credentials are stored in profiles.yml"
   ]
  },
  {
   "cell_type": "markdown",
   "id": "9ac1498d-8924-40a8-93ed-20226db3ec42",
   "metadata": {},
   "source": [
    "### Configuration settings are stored in dbt_project.yml"
   ]
  },
  {
   "cell_type": "markdown",
   "id": "0d6675bc-28ec-4275-86d8-20ecbd098613",
   "metadata": {},
   "source": [
    "### Ensure the data is correct with tests"
   ]
  },
  {
   "cell_type": "markdown",
   "id": "d65261ae-0181-44b1-a347-f3a7841737fa",
   "metadata": {},
   "source": [
    "\n",
    "### Create SCD2 easily with dbt snapshot"
   ]
  }
 ],
 "metadata": {
  "kernelspec": {
   "display_name": "env",
   "language": "python",
   "name": "env"
  },
  "language_info": {
   "codemirror_mode": {
    "name": "ipython",
    "version": 3
   },
   "file_extension": ".py",
   "mimetype": "text/x-python",
   "name": "python",
   "nbconvert_exporter": "python",
   "pygments_lexer": "ipython3",
   "version": "3.12.4"
  }
 },
 "nbformat": 4,
 "nbformat_minor": 5
}
