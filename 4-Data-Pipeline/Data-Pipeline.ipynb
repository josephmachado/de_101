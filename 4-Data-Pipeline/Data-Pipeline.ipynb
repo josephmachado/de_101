{
 "cells": [
  {
   "cell_type": "markdown",
   "id": "b0f0caf4-cb3b-449f-ac76-a7d05d8cb3e1",
   "metadata": {},
   "source": [
    "# Data pipelines involves extracting, transforming, & loading data for analytical use case"
   ]
  },
  {
   "cell_type": "markdown",
   "id": "c02e577c-2caf-4af6-9138-9c16fae32c36",
   "metadata": {},
   "source": [
    "## Let's create our data pipeline with Python"
   ]
  },
  {
   "cell_type": "markdown",
   "id": "0ac03ce5-eaed-474f-ab82-e5e2819f8271",
   "metadata": {},
   "source": [
    "## dbt (data build tool) enables one to build data pipelines with SWE best practices"
   ]
  },
  {
   "cell_type": "markdown",
   "id": "d07b9126-6c84-49e9-b608-9dd6821670ba",
   "metadata": {},
   "source": [
    "### dbt is a cli "
   ]
  },
  {
   "cell_type": "markdown",
   "id": "24e32c19-e334-4f3d-9bda-45c406bde438",
   "metadata": {},
   "source": [
    "### The popularity of dbt is its ability to create data pipelines with SQL scripts"
   ]
  },
  {
   "cell_type": "markdown",
   "id": "c2a29dbb-2517-45d6-96a7-879e30e3eac4",
   "metadata": {},
   "source": [
    "### dbt has a preferred step-by-step way to transform data"
   ]
  },
  {
   "cell_type": "markdown",
   "id": "e87f82d6-9525-4400-bc52-e343dca060df",
   "metadata": {},
   "source": [
    "### Connection credentials are stored in profiles.yml"
   ]
  },
  {
   "cell_type": "markdown",
   "id": "9ac1498d-8924-40a8-93ed-20226db3ec42",
   "metadata": {},
   "source": [
    "### Configuration settings are stored in dbt_project.yml"
   ]
  },
  {
   "cell_type": "markdown",
   "id": "0d6675bc-28ec-4275-86d8-20ecbd098613",
   "metadata": {},
   "source": [
    "### Ensure the data is correct with tests"
   ]
  },
  {
   "cell_type": "markdown",
   "id": "d65261ae-0181-44b1-a347-f3a7841737fa",
   "metadata": {},
   "source": [
    "\n",
    "### Create SCD2 easily with dbt snapshot"
   ]
  }
 ],
 "metadata": {
  "kernelspec": {
   "display_name": "Python 3 (ipykernel)",
   "language": "python",
   "name": "python3"
  },
  "language_info": {
   "codemirror_mode": {
    "name": "ipython",
    "version": 3
   },
   "file_extension": ".py",
   "mimetype": "text/x-python",
   "name": "python",
   "nbconvert_exporter": "python",
   "pygments_lexer": "ipython3",
   "version": "3.12.4"
  }
 },
 "nbformat": 4,
 "nbformat_minor": 5
}
