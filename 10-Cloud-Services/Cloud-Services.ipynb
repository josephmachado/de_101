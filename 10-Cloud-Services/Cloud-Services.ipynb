{
 "cells": [
  {
   "cell_type": "markdown",
   "id": "cd4433ac-914d-4463-b4f3-1472a763440b",
   "metadata": {},
   "source": [
    "#  Cloud services are computers you rent"
   ]
  },
  {
   "cell_type": "markdown",
   "id": "81807249-b43e-4d70-977b-4c3ceeb8fb13",
   "metadata": {},
   "source": [
    "# Manage cloud services with UI, cli, python module or IAC"
   ]
  },
  {
   "cell_type": "markdown",
   "id": "9cfe4a10-7595-4d49-8a3e-d1c5445d892d",
   "metadata": {},
   "source": [
    "# Setting up infra for our data pipeline"
   ]
  }
 ],
 "metadata": {
  "kernelspec": {
   "display_name": "Python 3 (ipykernel)",
   "language": "python",
   "name": "python3"
  },
  "language_info": {
   "codemirror_mode": {
    "name": "ipython",
    "version": 3
   },
   "file_extension": ".py",
   "mimetype": "text/x-python",
   "name": "python",
   "nbconvert_exporter": "python",
   "pygments_lexer": "ipython3",
   "version": "3.12.4"
  }
 },
 "nbformat": 4,
 "nbformat_minor": 5
}
