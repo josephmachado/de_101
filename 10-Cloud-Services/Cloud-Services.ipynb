{
 "cells": [
  {
   "cell_type": "markdown",
   "id": "cd4433ac-914d-4463-b4f3-1472a763440b",
   "metadata": {},
   "source": [
    "#  Cloud services are computers you rent"
   ]
  },
  {
   "cell_type": "markdown",
   "id": "81807249-b43e-4d70-977b-4c3ceeb8fb13",
   "metadata": {},
   "source": [
    "# Manage cloud services with UI, cli, python module or IAC"
   ]
  },
  {
   "cell_type": "code",
   "execution_count": null,
   "id": "d6ce1d9a-e780-4dea-9612-76338c53ce06",
   "metadata": {},
   "outputs": [],
   "source": [
    "# go to https://docs.aws.amazon.com/cli/latest/userguide/getting-started-install.html#getting-started-install-instructions"
   ]
  },
  {
   "cell_type": "code",
   "execution_count": 1,
   "id": "053c262b-4fe7-4147-bbe5-b1cd7a0a4a32",
   "metadata": {},
   "outputs": [
    {
     "name": "stdout",
     "output_type": "stream",
     "text": [
      "aws-cli/2.17.32 Python/3.11.9 Linux/6.9.3-76060903-generic exe/x86_64.pop.22\n"
     ]
    }
   ],
   "source": [
    "! aws --version"
   ]
  },
  {
   "cell_type": "code",
   "execution_count": 3,
   "id": "0f5b85ef-8a58-40da-a208-c272ae5a7ed1",
   "metadata": {},
   "outputs": [],
   "source": [
    "# setup aws cli to work with your aws account here https://portal.aws.amazon.com/"
   ]
  },
  {
   "cell_type": "code",
   "execution_count": null,
   "id": "fad4e8d9-7a0f-4e88-b9e8-a336562d48a3",
   "metadata": {},
   "outputs": [],
   "source": [
    "# create an aws account"
   ]
  },
  {
   "cell_type": "code",
   "execution_count": 4,
   "id": "4de5923e-7099-4ccf-93c8-64912b3c0209",
   "metadata": {},
   "outputs": [],
   "source": [
    "# configure your aws cli to work with your aws account \n",
    "# Use recommended IAM approach if you are doing this on your personal laptop"
   ]
  },
  {
   "cell_type": "markdown",
   "id": "f3a1fed1-52fc-4f1b-b863-784d9ed91dc8",
   "metadata": {},
   "source": [
    "**NOTE** Be careful with any services that you spin up, this will result in you being charged if you go over the free tier limits!!!"
   ]
  },
  {
   "cell_type": "markdown",
   "id": "9cfe4a10-7595-4d49-8a3e-d1c5445d892d",
   "metadata": {},
   "source": [
    "# Setting up infra for our data pipeline"
   ]
  }
 ],
 "metadata": {
  "kernelspec": {
   "display_name": "Python 3 (ipykernel)",
   "language": "python",
   "name": "python3"
  },
  "language_info": {
   "codemirror_mode": {
    "name": "ipython",
    "version": 3
   },
   "file_extension": ".py",
   "mimetype": "text/x-python",
   "name": "python",
   "nbconvert_exporter": "python",
   "pygments_lexer": "ipython3",
   "version": "3.12.4"
  }
 },
 "nbformat": 4,
 "nbformat_minor": 5
}
