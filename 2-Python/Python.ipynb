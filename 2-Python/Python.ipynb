{
 "cells": [
  {
   "cell_type": "markdown",
   "id": "ec5a020e-dfce-4ab4-b503-bc0f74154576",
   "metadata": {},
   "source": [
    "# Python is used to run the tasks in a data pipeline"
   ]
  },
  {
   "cell_type": "markdown",
   "id": "990609eb-784b-4193-ad2c-27112e5ac77e",
   "metadata": {},
   "source": [
    "## Know Python basics"
   ]
  },
  {
   "cell_type": "markdown",
   "id": "7f8ff760-d6eb-4752-8ed6-5bfe81101aee",
   "metadata": {
    "jp-MarkdownHeadingCollapsed": true
   },
   "source": [
    "### Use the right data structure for your data access needs"
   ]
  },
  {
   "cell_type": "markdown",
   "id": "350f0248-873b-4d71-99c7-ee5a28429838",
   "metadata": {
    "jp-MarkdownHeadingCollapsed": true
   },
   "source": [
    "#### `List` for iteration and `dict` for lookup\n",
    "\n",
    "1. `Lists`: In Python, lists are ideal for storing a collection of items that you want to iterate over. Lists are ordered, mutable, and can contain duplicate elements.\n",
    "2. `Dictionaries`: Dictionaries (dict) are perfect for situations where you need fast lookups by key. A dictionary stores key-value pairs and provides average O(1) time complexity for lookups."
   ]
  },
  {
   "cell_type": "markdown",
   "id": "3fa6b117-7a88-4853-a659-071c0db8f176",
   "metadata": {},
   "source": [
    "#### Functions allow you to reuse blocks of code\n",
    "\n",
    "A function is a block of code that can be re-used as needed. This allows for us to have logic defined in one place, making it easy to maintain and use."
   ]
  },
  {
   "cell_type": "markdown",
   "id": "132c6c72-6f86-4c93-8616-277b653f0e5c",
   "metadata": {},
   "source": [
    "#### Define a blueprint with a `Class` and create `Objects` from it\n",
    "\n",
    "Think of a class as a blueprint and objects as things created based on that blueprint"
   ]
  },
  {
   "cell_type": "markdown",
   "id": "8191a16e-ad84-442f-98d0-f978bc69fa1e",
   "metadata": {
    "jp-MarkdownHeadingCollapsed": true
   },
   "source": [
    "## Python can push data to/pull data from any system"
   ]
  },
  {
   "cell_type": "markdown",
   "id": "a87a1c5e-c50f-4d90-955c-1d58282280f0",
   "metadata": {},
   "source": [
    "### Interact with databases using their specific Python packages "
   ]
  },
  {
   "cell_type": "markdown",
   "id": "5d0973b5-e0e1-4109-bd9c-8d077a55c4c2",
   "metadata": {},
   "source": [
    "### Interact with API endpoint using the `requests` package"
   ]
  },
  {
   "cell_type": "markdown",
   "id": "d056bc15-8ffd-4833-90bc-17f275baaa52",
   "metadata": {},
   "source": [
    "### Interact with files in your filesystem with Python's standard libraries"
   ]
  },
  {
   "cell_type": "markdown",
   "id": "2903287e-320a-48f5-b3b2-98440367af94",
   "metadata": {},
   "source": [
    "## Run SQL queries using Python"
   ]
  },
  {
   "cell_type": "markdown",
   "id": "1e5f1e41-6039-4386-897c-936085679620",
   "metadata": {},
   "source": [
    "### Use Python to run your SQL queries"
   ]
  },
  {
   "cell_type": "markdown",
   "id": "c7de1b70-5665-4ac4-bacb-78a9d6f82ea1",
   "metadata": {},
   "source": [
    "## Dataframes provides a Pythonic way to transform data"
   ]
  },
  {
   "cell_type": "markdown",
   "id": "daa7ad42-013b-4da3-9d03-d824b9ee750f",
   "metadata": {},
   "source": [
    "### Popularity of Pandas in data science made it a critical part of most data pipelines"
   ]
  }
 ],
 "metadata": {
  "kernelspec": {
   "display_name": "Python 3 (ipykernel)",
   "language": "python",
   "name": "python3"
  },
  "language_info": {
   "codemirror_mode": {
    "name": "ipython",
    "version": 3
   },
   "file_extension": ".py",
   "mimetype": "text/x-python",
   "name": "python",
   "nbconvert_exporter": "python",
   "pygments_lexer": "ipython3",
   "version": "3.12.4"
  }
 },
 "nbformat": 4,
 "nbformat_minor": 5
}
